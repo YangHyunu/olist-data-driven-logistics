{
 "cells": [
  {
   "cell_type": "code",
   "execution_count": 1,
   "metadata": {},
   "outputs": [],
   "source": [
    "import pandas as pd\n",
    "import numpy as np\n",
    "import matplotlib.pyplot as plt\n",
    "import seaborn as sns"
   ]
  },
  {
   "cell_type": "code",
   "execution_count": 3,
   "metadata": {},
   "outputs": [
    {
     "data": {
      "text/html": [
       "<div>\n",
       "<style scoped>\n",
       "    .dataframe tbody tr th:only-of-type {\n",
       "        vertical-align: middle;\n",
       "    }\n",
       "\n",
       "    .dataframe tbody tr th {\n",
       "        vertical-align: top;\n",
       "    }\n",
       "\n",
       "    .dataframe thead th {\n",
       "        text-align: right;\n",
       "    }\n",
       "</style>\n",
       "<table border=\"1\" class=\"dataframe\">\n",
       "  <thead>\n",
       "    <tr style=\"text-align: right;\">\n",
       "      <th></th>\n",
       "      <th>order_id</th>\n",
       "      <th>customer_id</th>\n",
       "      <th>order_status</th>\n",
       "      <th>order_purchase_timestamp</th>\n",
       "      <th>order_approved_at</th>\n",
       "      <th>order_delivered_carrier_date</th>\n",
       "      <th>order_delivered_customer_date</th>\n",
       "      <th>order_estimated_delivery_date</th>\n",
       "      <th>days_to_delivery</th>\n",
       "      <th>estimated_days_to_delivery</th>\n",
       "      <th>...</th>\n",
       "      <th>seller_region</th>\n",
       "      <th>season</th>\n",
       "      <th>customer_unique_id</th>\n",
       "      <th>customer_zip_code_prefix</th>\n",
       "      <th>customer_city</th>\n",
       "      <th>customer_state</th>\n",
       "      <th>customer_lat</th>\n",
       "      <th>customer_lng</th>\n",
       "      <th>customer_region</th>\n",
       "      <th>distance</th>\n",
       "    </tr>\n",
       "  </thead>\n",
       "  <tbody>\n",
       "    <tr>\n",
       "      <th>0</th>\n",
       "      <td>e481f51cbdc54678b7cc49136f2d6af7</td>\n",
       "      <td>9ef432eb6251297304e76186b10a928d</td>\n",
       "      <td>delivered</td>\n",
       "      <td>2017-10-02 10:56:33</td>\n",
       "      <td>2017-10-02 11:07:15</td>\n",
       "      <td>2017-10-04 19:55:00</td>\n",
       "      <td>2017-10-10 21:25:13</td>\n",
       "      <td>2017-10-18</td>\n",
       "      <td>8</td>\n",
       "      <td>15</td>\n",
       "      <td>...</td>\n",
       "      <td>남동부</td>\n",
       "      <td>rainy</td>\n",
       "      <td>7c396fd4830fd04220f754e42b4e5bff</td>\n",
       "      <td>3149</td>\n",
       "      <td>sao paulo</td>\n",
       "      <td>SP</td>\n",
       "      <td>-23.576983</td>\n",
       "      <td>-46.587161</td>\n",
       "      <td>남동부</td>\n",
       "      <td>18.566632</td>\n",
       "    </tr>\n",
       "    <tr>\n",
       "      <th>1</th>\n",
       "      <td>53cdb2fc8bc7dce0b6741e2150273451</td>\n",
       "      <td>b0830fb4747a6c6d20dea0b8c802d7ef</td>\n",
       "      <td>delivered</td>\n",
       "      <td>2018-07-24 20:41:37</td>\n",
       "      <td>2018-07-26 03:24:27</td>\n",
       "      <td>2018-07-26 14:31:00</td>\n",
       "      <td>2018-08-07 15:27:45</td>\n",
       "      <td>2018-08-13</td>\n",
       "      <td>12</td>\n",
       "      <td>17</td>\n",
       "      <td>...</td>\n",
       "      <td>남동부</td>\n",
       "      <td>dry</td>\n",
       "      <td>af07308b275d755c9edb36a90c618231</td>\n",
       "      <td>47813</td>\n",
       "      <td>barreiras</td>\n",
       "      <td>TO</td>\n",
       "      <td>-12.135259</td>\n",
       "      <td>-45.005406</td>\n",
       "      <td>북부</td>\n",
       "      <td>856.076259</td>\n",
       "    </tr>\n",
       "    <tr>\n",
       "      <th>2</th>\n",
       "      <td>53cdb2fc8bc7dce0b6741e2150273451</td>\n",
       "      <td>b0830fb4747a6c6d20dea0b8c802d7ef</td>\n",
       "      <td>delivered</td>\n",
       "      <td>2018-07-24 20:41:37</td>\n",
       "      <td>2018-07-26 03:24:27</td>\n",
       "      <td>2018-07-26 14:31:00</td>\n",
       "      <td>2018-08-07 15:27:45</td>\n",
       "      <td>2018-08-13</td>\n",
       "      <td>12</td>\n",
       "      <td>17</td>\n",
       "      <td>...</td>\n",
       "      <td>남동부</td>\n",
       "      <td>dry</td>\n",
       "      <td>af07308b275d755c9edb36a90c618231</td>\n",
       "      <td>47813</td>\n",
       "      <td>barreiras</td>\n",
       "      <td>BA</td>\n",
       "      <td>-12.945892</td>\n",
       "      <td>-38.456194</td>\n",
       "      <td>북동부</td>\n",
       "      <td>961.437029</td>\n",
       "    </tr>\n",
       "    <tr>\n",
       "      <th>3</th>\n",
       "      <td>47770eb9100c2d0c44946d9cf07ec65d</td>\n",
       "      <td>41ce2a54c0b03bf3443c3d931a367089</td>\n",
       "      <td>delivered</td>\n",
       "      <td>2018-08-08 08:38:49</td>\n",
       "      <td>2018-08-08 08:55:23</td>\n",
       "      <td>2018-08-08 13:50:00</td>\n",
       "      <td>2018-08-17 18:06:29</td>\n",
       "      <td>2018-09-04</td>\n",
       "      <td>9</td>\n",
       "      <td>26</td>\n",
       "      <td>...</td>\n",
       "      <td>남동부</td>\n",
       "      <td>dry</td>\n",
       "      <td>3a653a41f6f9fc3d2a113cf8398680e8</td>\n",
       "      <td>75265</td>\n",
       "      <td>vianopolis</td>\n",
       "      <td>GO</td>\n",
       "      <td>-16.745150</td>\n",
       "      <td>-48.514783</td>\n",
       "      <td>중서부</td>\n",
       "      <td>512.100044</td>\n",
       "    </tr>\n",
       "    <tr>\n",
       "      <th>4</th>\n",
       "      <td>949d5b44dbf5de918fe9c16f97b45f8a</td>\n",
       "      <td>f88197465ea7920adcdbec7375364d82</td>\n",
       "      <td>delivered</td>\n",
       "      <td>2017-11-18 19:28:06</td>\n",
       "      <td>2017-11-18 19:45:59</td>\n",
       "      <td>2017-11-22 13:39:59</td>\n",
       "      <td>2017-12-02 00:28:42</td>\n",
       "      <td>2017-12-15</td>\n",
       "      <td>13</td>\n",
       "      <td>26</td>\n",
       "      <td>...</td>\n",
       "      <td>남동부</td>\n",
       "      <td>rainy</td>\n",
       "      <td>7c142cf63193a1473d2e66489a9ae977</td>\n",
       "      <td>59296</td>\n",
       "      <td>sao goncalo do amarante</td>\n",
       "      <td>RN</td>\n",
       "      <td>-5.774190</td>\n",
       "      <td>-35.271143</td>\n",
       "      <td>북동부</td>\n",
       "      <td>1816.085655</td>\n",
       "    </tr>\n",
       "  </tbody>\n",
       "</table>\n",
       "<p>5 rows × 33 columns</p>\n",
       "</div>"
      ],
      "text/plain": [
       "                           order_id                       customer_id  \\\n",
       "0  e481f51cbdc54678b7cc49136f2d6af7  9ef432eb6251297304e76186b10a928d   \n",
       "1  53cdb2fc8bc7dce0b6741e2150273451  b0830fb4747a6c6d20dea0b8c802d7ef   \n",
       "2  53cdb2fc8bc7dce0b6741e2150273451  b0830fb4747a6c6d20dea0b8c802d7ef   \n",
       "3  47770eb9100c2d0c44946d9cf07ec65d  41ce2a54c0b03bf3443c3d931a367089   \n",
       "4  949d5b44dbf5de918fe9c16f97b45f8a  f88197465ea7920adcdbec7375364d82   \n",
       "\n",
       "  order_status order_purchase_timestamp    order_approved_at  \\\n",
       "0    delivered      2017-10-02 10:56:33  2017-10-02 11:07:15   \n",
       "1    delivered      2018-07-24 20:41:37  2018-07-26 03:24:27   \n",
       "2    delivered      2018-07-24 20:41:37  2018-07-26 03:24:27   \n",
       "3    delivered      2018-08-08 08:38:49  2018-08-08 08:55:23   \n",
       "4    delivered      2017-11-18 19:28:06  2017-11-18 19:45:59   \n",
       "\n",
       "  order_delivered_carrier_date order_delivered_customer_date  \\\n",
       "0          2017-10-04 19:55:00           2017-10-10 21:25:13   \n",
       "1          2018-07-26 14:31:00           2018-08-07 15:27:45   \n",
       "2          2018-07-26 14:31:00           2018-08-07 15:27:45   \n",
       "3          2018-08-08 13:50:00           2018-08-17 18:06:29   \n",
       "4          2017-11-22 13:39:59           2017-12-02 00:28:42   \n",
       "\n",
       "  order_estimated_delivery_date  days_to_delivery  estimated_days_to_delivery  \\\n",
       "0                    2017-10-18                 8                          15   \n",
       "1                    2018-08-13                12                          17   \n",
       "2                    2018-08-13                12                          17   \n",
       "3                    2018-09-04                 9                          26   \n",
       "4                    2017-12-15                13                          26   \n",
       "\n",
       "   ...  seller_region  season                customer_unique_id  \\\n",
       "0  ...            남동부   rainy  7c396fd4830fd04220f754e42b4e5bff   \n",
       "1  ...            남동부     dry  af07308b275d755c9edb36a90c618231   \n",
       "2  ...            남동부     dry  af07308b275d755c9edb36a90c618231   \n",
       "3  ...            남동부     dry  3a653a41f6f9fc3d2a113cf8398680e8   \n",
       "4  ...            남동부   rainy  7c142cf63193a1473d2e66489a9ae977   \n",
       "\n",
       "  customer_zip_code_prefix            customer_city  customer_state  \\\n",
       "0                     3149                sao paulo              SP   \n",
       "1                    47813                barreiras              TO   \n",
       "2                    47813                barreiras              BA   \n",
       "3                    75265               vianopolis              GO   \n",
       "4                    59296  sao goncalo do amarante              RN   \n",
       "\n",
       "   customer_lat  customer_lng  customer_region     distance  \n",
       "0    -23.576983    -46.587161              남동부    18.566632  \n",
       "1    -12.135259    -45.005406               북부   856.076259  \n",
       "2    -12.945892    -38.456194              북동부   961.437029  \n",
       "3    -16.745150    -48.514783              중서부   512.100044  \n",
       "4     -5.774190    -35.271143              북동부  1816.085655  \n",
       "\n",
       "[5 rows x 33 columns]"
      ]
     },
     "execution_count": 3,
     "metadata": {},
     "output_type": "execute_result"
    }
   ],
   "source": [
    "df = pd.read_csv('mart_overall.csv')\n",
    "df.head()"
   ]
  },
  {
   "cell_type": "code",
   "execution_count": 4,
   "metadata": {},
   "outputs": [
    {
     "name": "stderr",
     "output_type": "stream",
     "text": [
      "Setting default log level to \"WARN\".\n",
      "To adjust logging level use sc.setLogLevel(newLevel). For SparkR, use setLogLevel(newLevel).\n",
      "25/02/26 13:46:25 WARN NativeCodeLoader: Unable to load native-hadoop library for your platform... using builtin-java classes where applicable\n",
      "25/02/26 13:46:28 WARN Utils: Service 'SparkUI' could not bind on port 4040. Attempting port 4041.\n",
      "25/02/26 13:46:28 WARN Utils: Service 'SparkUI' could not bind on port 4041. Attempting port 4042.\n",
      "25/02/26 13:46:28 WARN Utils: Service 'SparkUI' could not bind on port 4042. Attempting port 4043.\n",
      "25/02/26 13:46:42 WARN SparkStringUtils: Truncated the string representation of a plan since it was too large. This behavior can be adjusted by setting 'spark.sql.debug.maxToStringFields'.\n"
     ]
    }
   ],
   "source": [
    "from pyspark.sql import SparkSession\n",
    "# Spark 세션 생성\n",
    "spark = SparkSession.builder.appName(\"olist\").getOrCreate()\n",
    "\n",
    "spk_orders = spark.read.csv('mart_orders.csv', header=True, inferSchema=True)\n",
    "spk_orders.createOrReplaceTempView(\"orders\")"
   ]
  },
  {
   "cell_type": "code",
   "execution_count": 5,
   "metadata": {},
   "outputs": [
    {
     "name": "stdout",
     "output_type": "stream",
     "text": [
      "+---+--------------------+--------------------+------------+--------------------+----------------------+--------------------+-----------------------+-----------+\n",
      "|_c0|           review_id|            order_id|review_score|review_comment_title|review_comment_message|review_creation_date|review_answer_timestamp|sentimental|\n",
      "+---+--------------------+--------------------+------------+--------------------+----------------------+--------------------+-----------------------+-----------+\n",
      "|  9|8670d52e15e00043a...|b9bf720beb4ab3728...|           4|           recomendo|  aparelho eficient...| 2018-05-22 00:00:00|    2018-05-23 16:45:47|    Neutral|\n",
      "| 15|3948b09f7c818e2d8...|e51478e7e277a8374...|           5|     Super recomendo|  vendedor confiáve...| 2018-05-23 00:00:00|    2018-05-24 03:00:01|   Positive|\n",
      "| 19|373cbeecea8286a2b...|583174fbe37d3d5f0...|           1|Não chegou meu pr...|               péssimo| 2018-08-15 00:00:00|    2018-08-15 04:10:37|   Negative|\n",
      "| 22|d21bbc789670eab77...|4fc44d78867142c62...|           5|               Ótimo|      loja nota numero| 2018-07-10 00:00:00|    2018-07-11 14:10:25|    Neutral|\n",
      "| 34|c92cdd7dd544a01aa...|37e7875cdce5a9e5b...|           4|          Muito bom.|  recebi exatamente...| 2018-06-07 00:00:00|    2018-06-09 18:44:02|    Neutral|\n",
      "| 36|08c9d79ec0eba1d25...|e029f708df3cc108b...|           5|                 Bom|             recomendo| 2018-06-13 00:00:00|    2018-06-13 22:54:44|   Positive|\n",
      "| 38|b193ff3c9f32a01f3...|e2e6ee1ed2d7f2f36...|           5|        Maravilhoso!|  tô completamente ...| 2018-08-10 00:00:00|    2018-08-11 00:22:13|   Positive|\n",
      "| 43|86c5cfa7fcbde303f...|a6456e781cb962cc3...|           5|    Entrega perfeita|          bom cheiroso| 2018-06-13 00:00:00|    2018-06-14 17:29:03|   Positive|\n",
      "| 53|1edd1a85161468a77...|d8e17cc8532306149...|           5|               Ótimo|                neutro| 2018-06-02 00:00:00|    2018-06-02 23:15:37|    Neutral|\n",
      "| 59|500c05500aa275953...|8a9424899aac432d8...|           5|            MT lindo|              mt lindo| 2018-07-25 00:00:00|    2018-07-25 21:37:22|   Positive|\n",
      "| 67|109b5ce2dd11bb846...|25362fbf6aac4b01a...|           5|     Ótimo Produto! |    recomendo vendedor| 2018-08-17 00:00:00|    2018-08-17 21:47:08|    Neutral|\n",
      "| 79|c45811d9f90e22a81...|491f193fc52075598...|           5|  RECOMENDO SEMPRE!!|  kit mochila patru...| 2018-06-19 00:00:00|    2018-06-19 17:44:05|   Positive|\n",
      "| 90|50a1eaa2f96d6f3e0...|4a7cf245701068d38...|           5|     ***** Recomendo|          super rápido| 2018-05-10 00:00:00|    2018-05-11 03:08:49|   Positive|\n",
      "|104|352609f0f2d34ce5d...|96b947c986b42f213...|           3|Não recebi o prod...|                neutro| 2018-08-25 00:00:00|    2018-08-25 20:53:41|    Neutral|\n",
      "|108|1692078634b63c7f2...|5bc4e94aef2841f39...|           5|               OTIMO|          ok recomendo| 2018-05-23 00:00:00|    2018-05-28 12:48:45|   Positive|\n",
      "|131|46d8249ea59101c72...|f25ddb6cd62d720a5...|           3|     Entrega atrasou|  entrega dividida ...| 2018-01-20 00:00:00|    2018-05-15 00:45:28|    Neutral|\n",
      "|163|79927442ebcbf70b2...|1c8898140458c37fb...|           5|           muito boa|  gostei atenção en...| 2018-04-27 00:00:00|    2018-04-30 08:04:49|   Positive|\n",
      "|166|14613df954694f243...|1e91914c9706a5d46...|           4|                  4 |  vidro quebrado ve...| 2018-05-15 00:00:00|    2018-05-16 23:41:51|   Negative|\n",
      "|167|5f938e5f5f2e9a757...|d9ff0185a30043540...|           1|               Médio|      peça não_ serviu| 2018-05-11 00:00:00|    2018-05-14 14:08:04|    Neutral|\n",
      "|170|0c9b6ca9b3beaf0fd...|cadd4c5765abf6581...|           5|       prazo entrega|  espero receber se...| 2018-08-26 00:00:00|    2018-08-29 02:48:21|    Neutral|\n",
      "+---+--------------------+--------------------+------------+--------------------+----------------------+--------------------+-----------------------+-----------+\n",
      "only showing top 20 rows\n",
      "\n"
     ]
    },
    {
     "name": "stderr",
     "output_type": "stream",
     "text": [
      "25/02/26 13:46:43 WARN CSVHeaderChecker: CSV header does not conform to the schema.\n",
      " Header: , review_id, order_id, review_score, review_comment_title, review_comment_message, review_creation_date, review_answer_timestamp, sentimental\n",
      " Schema: _c0, review_id, order_id, review_score, review_comment_title, review_comment_message, review_creation_date, review_answer_timestamp, sentimental\n",
      "Expected: _c0 but found: \n",
      "CSV file: file:///app/spark/Olist/review_data.csv\n"
     ]
    }
   ],
   "source": [
    "spk_reviews = spark.read.csv('review_data.csv', header=True, inferSchema=True)\n",
    "spk_reviews.join(spk_orders, spk_reviews.order_id == spk_orders.order_id, 'inner').createOrReplaceTempView(\"reviews\")\n",
    "spk_reviews.show()"
   ]
  },
  {
   "cell_type": "code",
   "execution_count": 6,
   "metadata": {},
   "outputs": [
    {
     "name": "stdout",
     "output_type": "stream",
     "text": [
      "+--------------------+--------------------+-------------+--------------------+------------------+--------------------------+------------+--------------+---------------+----------------+--------------------+---------------+------------+-----------+----------------------+\n",
      "|            order_id|           seller_id|seller_region|         customer_id|          distance|estimated_days_to_delivery|seller_state|customer_state|customer_region|days_to_delivery|delay_flag_estimated|delay_flag_maen|review_score|sentimental|review_comment_message|\n",
      "+--------------------+--------------------+-------------+--------------------+------------------+--------------------------+------------+--------------+---------------+----------------+--------------------+---------------+------------+-----------+----------------------+\n",
      "|53cdb2fc8bc7dce0b...|289cdb325fb7e7f89...|       남동부|b0830fb4747a6c6d2...|  856.076259389407|                        17|          MG|            TO|           북부|              12|                  No|            Yes|           4|   Positive|           bom produto|\n",
      "|53cdb2fc8bc7dce0b...|289cdb325fb7e7f89...|       남동부|b0830fb4747a6c6d2...| 961.4370293229758|                        17|          MG|            BA|         북동부|              12|                  No|            Yes|           4|   Positive|           bom produto|\n",
      "|dcb36b511fcac050b...|89a51f50b8095ea78...|       중서부|3b6828a50ffe54694...| 161.1210713943329|                        21|          DF|            GO|         중서부|               8|                  No|             No|           5|   Positive|  obrigado atenção ...|\n",
      "|f3e7c359154d96582...|55c26bcb609f480eb...|       남동부|62b423aab58096ca5...| 233.2474219520499|                         6|          SP|            SP|         남동부|               3|                  No|             No|           5|   Positive|  sempre vou compra...|\n",
      "|acce194856392f074...|977f9f63dd360c2a3...|       남동부|7e20bf5ca92da6820...|1460.0270086790292|                        42|          SP|            BA|         북동부|              11|                  No|            Yes|           1|    Neutral|  momento não_ rece...|\n",
      "|acce194856392f074...|d673a59aac7a70d8b...|       남동부|7e20bf5ca92da6820...|1472.7359017284377|                        42|          SP|            BA|         북동부|              11|                  No|            Yes|           1|    Neutral|  momento não_ rece...|\n",
      "|1790eea0b567cf509...|d91fb3b7d041e83b6...|       남동부|52142aa69d8d0e124...|2056.0831954910245|                        28|          SP|            PE|         북동부|              18|                  No|            Yes|           1|    Neutral|  entregue produto ...|\n",
      "|b276e4f8c0fb86bd8...|fe2032dab1a61af87...|       남동부|cf8ffeddf027932e5...|37.055339495336256|                         7|          SP|            SP|         남동부|               1|                  No|             No|           5|    Neutral|                neutro|\n",
      "|b276e4f8c0fb86bd8...|fe2032dab1a61af87...|       남동부|cf8ffeddf027932e5...| 37.23412534215542|                         7|          SP|            SP|         남동부|               1|                  No|             No|           5|    Neutral|                neutro|\n",
      "|b276e4f8c0fb86bd8...|fe2032dab1a61af87...|       남동부|cf8ffeddf027932e5...| 36.80481500578002|                         7|          SP|            SP|         남동부|               1|                  No|             No|           5|    Neutral|                neutro|\n",
      "|b276e4f8c0fb86bd8...|fe2032dab1a61af87...|       남동부|cf8ffeddf027932e5...|37.863348492409536|                         7|          SP|            SP|         남동부|               1|                  No|             No|           5|    Neutral|                neutro|\n",
      "|434d158e96bdd6972...|a5cba26a62b8b4d01...|         남부|2a1dfb647f32f4390...|2556.6391153477734|                        41|          PR|            PE|         북동부|              13|                  No|            Yes|           5|    Neutral|  produto veio bem ...|\n",
      "|5820a1100976432c7...|f52c2422904463fdd...|       남동부|2b56e94c2f66f2d97...| 758.7159918940948|                        14|          SP|            RS|           남부|               4|                  No|             No|           5|   Positive|  prazo entrega exc...|\n",
      "|9faeb9b2746b9d752...|f7ba60f8c3f99e7ee...|       남동부|79183cd650e2bb0d4...| 844.4476689107225|                        20|          SP|            RS|           남부|               5|                  No|             No|           1|    Neutral|  recebi apenas num...|\n",
      "|40c5e18f7d112b59b...|ef0ace09169ac0905...|       남동부|67407057a7d5ee17d...| 21.29953980384512|                        34|          RJ|            RJ|         남동부|               7|                  No|             No|           5|   Positive|  entrega antes dat...|\n",
      "|688052146432ef825...|a1043bafd471dff53...|       남동부|81e08b08e5ed44720...|270.89102584165573|                        20|          MG|            MG|         남동부|               0|                  No|             No|           4|    Neutral|  somente mala pequ...|\n",
      "|688052146432ef825...|2a84855fd20af891b...|       남동부|81e08b08e5ed44720...|210.81896403602417|                        20|          MG|            MG|         남동부|               0|                  No|             No|           4|    Neutral|  somente mala pequ...|\n",
      "|fdf128b3630c21adc...|16090f2ca825584b5...|       남동부|a9d37ddc8ba4d9f6d...| 415.5173068722992|                        16|          SP|            SC|           남부|               8|                  No|             No|           3|    Neutral|  passei mail solic...|\n",
      "|bd4bd0194d6d29f83...|ea8482cd71df3c196...|       남동부|636e15840ab051faa...| 296.6651379183941|                         7|          SP|            SP|         남동부|               6|                  No|             No|           5|    Neutral|                neutro|\n",
      "|0e782c3705510e717...|562fc2f2c2863ab7e...|       남동부|3a897024068ed42a1...|102.79576301153296|                        14|          SP|            SP|         남동부|               3|                  No|             No|           4|   Positive|  produto veio perf...|\n",
      "+--------------------+--------------------+-------------+--------------------+------------------+--------------------------+------------+--------------+---------------+----------------+--------------------+---------------+------------+-----------+----------------------+\n",
      "only showing top 20 rows\n",
      "\n"
     ]
    }
   ],
   "source": [
    "df = spk_orders.join(spk_reviews, 'order_id', 'inner') \\\n",
    "               .select('order_id', 'seller_id', 'seller_region', 'customer_id', 'distance','estimated_days_to_delivery', \n",
    "                       'seller_state', 'customer_state','customer_region', 'days_to_delivery','delay_flag_estimated','delay_flag_maen', 'review_score','sentimental','review_comment_message')\n",
    "df.show()"
   ]
  },
  {
   "cell_type": "code",
   "execution_count": 7,
   "metadata": {},
   "outputs": [],
   "source": [
    "from pyspark.sql.functions import col, when, count, isnan, isnull, mean, lit, sum, avg, round\n",
    "df = df.withColumn(\"same_state\", when(col(\"seller_state\") == col(\"customer_state\"), \"Yes\").otherwise(\"No\"))"
   ]
  },
  {
   "cell_type": "code",
   "execution_count": 8,
   "metadata": {},
   "outputs": [
    {
     "name": "stderr",
     "output_type": "stream",
     "text": [
      "[Stage 8:>                                                        (0 + 10) / 10]\r"
     ]
    },
    {
     "name": "stdout",
     "output_type": "stream",
     "text": [
      "+-----------+------------------+----+\n",
      "|sentimental|  avg_review_score| cnt|\n",
      "+-----------+------------------+----+\n",
      "|   Negative|1.9561128526645768| 565|\n",
      "|    Neutral|3.6842105263157894|5566|\n",
      "|   Positive| 4.770824699544136|4380|\n",
      "+-----------+------------------+----+\n",
      "\n"
     ]
    },
    {
     "name": "stderr",
     "output_type": "stream",
     "text": [
      "                                                                                \r"
     ]
    }
   ],
   "source": [
    "# Create a temporary view from the DataFrame\n",
    "df.createOrReplaceTempView(\"df_view\")\n",
    "\n",
    "query = \"\"\"\n",
    "    SELECT sentimental, AVG(review_score) as avg_review_score,COUNT(DISTINCT order_id) as cnt\n",
    "    FROM df_view\n",
    "    GROUP BY sentimental\n",
    "    ORDER BY sentimental\n",
    "\"\"\"\n",
    "spark.sql(query).show()"
   ]
  },
  {
   "cell_type": "markdown",
   "metadata": {},
   "source": [
    "- comment에 배송과 관련된 정보가 있을 때, 리뷰 점수?\n",
    "- WHERE review_comment_message REGEXP \"antes\""
   ]
  },
  {
   "cell_type": "code",
   "execution_count": 9,
   "metadata": {},
   "outputs": [
    {
     "name": "stderr",
     "output_type": "stream",
     "text": [
      "[Stage 15:===================================================>     (9 + 1) / 10]\r"
     ]
    },
    {
     "name": "stdout",
     "output_type": "stream",
     "text": [
      "+-----------+------------------+---+\n",
      "|sentimental|  avg_review_score|cnt|\n",
      "+-----------+------------------+---+\n",
      "|   Negative|3.2083333333333335| 20|\n",
      "|    Neutral| 4.543543543543543|608|\n",
      "|   Positive| 4.876744186046512|804|\n",
      "+-----------+------------------+---+\n",
      "\n"
     ]
    },
    {
     "name": "stderr",
     "output_type": "stream",
     "text": [
      "                                                                                \r"
     ]
    }
   ],
   "source": [
    "query = \"\"\"\n",
    "    SELECT sentimental, AVG(review_score) as avg_review_score,COUNT(DISTINCT order_id) as cnt\n",
    "    FROM df_view\n",
    "    WHERE review_comment_message REGEXP \"antes\"\n",
    "    GROUP BY sentimental\n",
    "    ORDER BY sentimental\n",
    "\"\"\"\n",
    "spark.sql(query).show()"
   ]
  },
  {
   "cell_type": "code",
   "execution_count": null,
   "metadata": {},
   "outputs": [],
   "source": []
  }
 ],
 "metadata": {
  "kernelspec": {
   "display_name": "Python 3",
   "language": "python",
   "name": "python3"
  },
  "language_info": {
   "codemirror_mode": {
    "name": "ipython",
    "version": 3
   },
   "file_extension": ".py",
   "mimetype": "text/x-python",
   "name": "python",
   "nbconvert_exporter": "python",
   "pygments_lexer": "ipython3",
   "version": "3.10.12"
  }
 },
 "nbformat": 4,
 "nbformat_minor": 2
}
