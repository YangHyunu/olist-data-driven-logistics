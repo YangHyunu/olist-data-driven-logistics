{
 "cells": [
  {
   "cell_type": "code",
   "execution_count": 2,
   "id": "4613b051-b2ac-4e4b-979d-de30e6308077",
   "metadata": {},
   "outputs": [],
   "source": [
    "import pandas as pd\n",
    "import matplotlib.pyplot as plt\n",
    "import numpy as np\n",
    "import seaborn as sns"
   ]
  },
  {
   "cell_type": "code",
   "execution_count": 13,
   "id": "f2bada34",
   "metadata": {},
   "outputs": [
    {
     "name": "stderr",
     "output_type": "stream",
     "text": [
      "                                                                                \r"
     ]
    }
   ],
   "source": [
    "from pyspark.sql import SparkSession\n",
    "# Spark 세션 생성\n",
    "spark = (\n",
    "    SparkSession.builder\n",
    "    .appName(\"olist\")\n",
    "    .config(\"spark.driver.memory\", \"6g\")\n",
    "    .config(\"spark.executor.memory\", \"6g\")\n",
    "    .config(\"spark.sql.shuffle.partitions\", \"8\")\n",
    "    .getOrCreate()\n",
    ")\n",
    "\n",
    "orders = spark.read.csv('/app/spark/Olist/fact_table/fact_orders.csv',header=True,inferSchema=True)\n",
    "items=spark.read.csv('/app/spark/Olist/fact_table/fact_items.csv',header=True,inferSchema=True)\n",
    "order_items = orders.join(items, on='order_id')\n",
    "\n"
   ]
  },
  {
   "cell_type": "code",
   "execution_count": 14,
   "id": "52c32dc5",
   "metadata": {},
   "outputs": [
    {
     "name": "stderr",
     "output_type": "stream",
     "text": [
      "[Stage 7:>                                                          (0 + 3) / 3]\r"
     ]
    },
    {
     "name": "stdout",
     "output_type": "stream",
     "text": [
      "+--------------------+--------------------+------------+------------------------+-----------------+----------------------------+-----------------------------+-----------------------------+----------------+--------------------------+--------------------+--------------+--------------------+--------------------+-------------------+------+-------------+-----+\n",
      "|            order_id|         customer_id|order_status|order_purchase_timestamp|order_approved_at|order_delivered_carrier_date|order_delivered_customer_date|order_estimated_delivery_date|days_to_delivery|estimated_days_to_delivery|delay_flag_estimated|delay_flag_avg|          product_id|           seller_id|shipping_limit_date| price|freight_value|count|\n",
      "+--------------------+--------------------+------------+------------------------+-----------------+----------------------------+-----------------------------+-----------------------------+----------------+--------------------------+--------------------+--------------+--------------------+--------------------+-------------------+------+-------------+-----+\n",
      "|0005f50442cb953dc...|351d3cb2cee3c7fd0...|   delivered|              2018-07-02|       2018-07-02|                  2018-07-03|                   2018-07-04|                   2018-07-23|               2|                        21|                   0|             0|4535b0e1091c278df...|ba143b05f0110f0dc...|2018-07-06 14:10:56| 53.99|         11.4|    1|\n",
      "|00061f2a7bc09da83...|c6fc061d86fab1e2b...|   delivered|              2018-03-24|       2018-03-24|                  2018-03-27|                   2018-03-29|                   2018-04-09|               5|                        16|                   0|             0|d63c1011f49d98b97...|cc419e0650a3c5ba7...|2018-03-29 22:28:09| 59.99|         8.88|    1|\n",
      "|00063b381e2406b52...|6a899e55865de6549...|   delivered|              2018-07-27|       2018-07-27|                  2018-07-30|                   2018-08-07|                   2018-08-07|              11|                        11|                   0|             1|f177554ea93259a5b...|8602a61d680a10a82...|2018-07-31 17:30:39|  45.0|        12.98|    1|\n",
      "|000f25f4d72195062...|86ade8ebc14f18dd6...|   delivered|              2018-03-07|       2018-03-07|                  2018-03-16|                   2018-03-22|                   2018-04-11|              15|                        35|                   0|             1|1c05e0964302b6cf6...|7c67e1448b00f6e96...|2018-03-21 11:10:11|119.99|         44.4|    1|\n",
      "|001021efaa8636c29...|2dfbf74859104caf1...|   delivered|              2018-02-27|       2018-02-27|                  2018-02-27|                   2018-03-08|                   2018-03-23|               9|                        24|                   0|             0|5d7c23067ed3fc8c6...|6560211a19b47992c...|2018-03-05 09:35:41|  49.0|         15.1|    1|\n",
      "+--------------------+--------------------+------------+------------------------+-----------------+----------------------------+-----------------------------+-----------------------------+----------------+--------------------------+--------------------+--------------+--------------------+--------------------+-------------------+------+-------------+-----+\n",
      "only showing top 5 rows\n",
      "\n"
     ]
    },
    {
     "name": "stderr",
     "output_type": "stream",
     "text": [
      "                                                                                \r"
     ]
    }
   ],
   "source": [
    "order_items.show(5)"
   ]
  },
  {
   "cell_type": "markdown",
   "id": "b045a67e-e507-4852-bbb4-397e6b234fb6",
   "metadata": {},
   "source": [
    "### Seller 와 Customer 사이의 거리 계산"
   ]
  },
  {
   "cell_type": "code",
   "execution_count": 18,
   "id": "b0d13927",
   "metadata": {},
   "outputs": [
    {
     "name": "stderr",
     "output_type": "stream",
     "text": [
      "                                                                                \r"
     ]
    },
    {
     "name": "stdout",
     "output_type": "stream",
     "text": [
      "+--------------------+--------------------+--------------------+------------+------------------------+-----------------+----------------------------+-----------------------------+-----------------------------+----------------+--------------------------+--------------------+--------------+--------------------+-------------------+------+-------------+-----+----------------------+-----------+------------+-------------+-------------------+------------------+\n",
      "|           seller_id|            order_id|         customer_id|order_status|order_purchase_timestamp|order_approved_at|order_delivered_carrier_date|order_delivered_customer_date|order_estimated_delivery_date|days_to_delivery|estimated_days_to_delivery|delay_flag_estimated|delay_flag_avg|          product_id|shipping_limit_date| price|freight_value|count|seller_zip_code_prefix|seller_city|seller_state|seller_region|         seller_lat|        seller_lng|\n",
      "+--------------------+--------------------+--------------------+------------+------------------------+-----------------+----------------------------+-----------------------------+-----------------------------+----------------+--------------------------+--------------------+--------------+--------------------+-------------------+------+-------------+-----+----------------------+-----------+------------+-------------+-------------------+------------------+\n",
      "|01bcc9d254a0143f0...|0580802ab0d4809dc...|624dd44e174c96c79...|   delivered|              2018-01-15|       2018-01-15|                  2018-01-17|                   2018-01-27|                   2018-02-20|              12|                        36|                   0|             1|8097e6d8de77768d9...|2018-01-19 17:36:23|121.35|        34.65|    1|                 76400|     uruacu|          GO|       중서부|-14.518522867646602| -49.1319174044097|\n",
      "|01bcc9d254a0143f0...|0580802ab0d4809dc...|624dd44e174c96c79...|   delivered|              2018-01-15|       2018-01-15|                  2018-01-17|                   2018-01-27|                   2018-02-20|              12|                        36|                   0|             1|8097e6d8de77768d9...|2018-01-19 17:36:23|121.35|        34.65|    1|                 76400|     uruacu|          GO|       중서부|-14.525447183705056|-49.15490879807667|\n",
      "|01bcc9d254a0143f0...|0580802ab0d4809dc...|624dd44e174c96c79...|   delivered|              2018-01-15|       2018-01-15|                  2018-01-17|                   2018-01-27|                   2018-02-20|              12|                        36|                   0|             1|8097e6d8de77768d9...|2018-01-19 17:36:23|121.35|        34.65|    1|                 76400|     uruacu|          GO|       중서부|-14.524558972222868|-49.13725383502327|\n",
      "|01bcc9d254a0143f0...|0580802ab0d4809dc...|624dd44e174c96c79...|   delivered|              2018-01-15|       2018-01-15|                  2018-01-17|                   2018-01-27|                   2018-02-20|              12|                        36|                   0|             1|8097e6d8de77768d9...|2018-01-19 17:36:23|121.35|        34.65|    1|                 76400|     uruacu|          GO|       중서부|-14.526133604109916| -49.1367657613145|\n",
      "|01bcc9d254a0143f0...|0580802ab0d4809dc...|624dd44e174c96c79...|   delivered|              2018-01-15|       2018-01-15|                  2018-01-17|                   2018-01-27|                   2018-02-20|              12|                        36|                   0|             1|8097e6d8de77768d9...|2018-01-19 17:36:23|121.35|        34.65|    1|                 76400|     uruacu|          GO|       중서부|-14.528351446848369|-49.13322655370218|\n",
      "+--------------------+--------------------+--------------------+------------+------------------------+-----------------+----------------------------+-----------------------------+-----------------------------+----------------+--------------------------+--------------------+--------------+--------------------+-------------------+------+-------------+-----+----------------------+-----------+------------+-------------+-------------------+------------------+\n",
      "only showing top 5 rows\n",
      "\n"
     ]
    }
   ],
   "source": [
    "sellers = spark.read.csv('/app/spark/Olist/dim_table/dim_sellers.csv',header=True,inferSchema=True)\n",
    "order_items = order_items.join(sellers,on='seller_id')\n",
    "order_items.show(5)"
   ]
  },
  {
   "cell_type": "code",
   "execution_count": 20,
   "id": "98333554-986b-490c-8af8-416bd9f0ef6d",
   "metadata": {
    "collapsed": true,
    "jupyter": {
     "outputs_hidden": true
    }
   },
   "outputs": [
    {
     "name": "stderr",
     "output_type": "stream",
     "text": [
      "25/03/17 13:43:40 WARN SparkStringUtils: Truncated the string representation of a plan since it was too large. This behavior can be adjusted by setting 'spark.sql.debug.maxToStringFields'.\n",
      "[Stage 50:>                                                         (0 + 1) / 1]\r"
     ]
    },
    {
     "name": "stdout",
     "output_type": "stream",
     "text": [
      "+--------------------+--------------------+--------------------+------------+------------------------+-----------------+----------------------------+-----------------------------+-----------------------------+----------------+--------------------------+--------------------+--------------+--------------------+-------------------+-----+-------------+-----+----------------------+-----------+------------+-------------+-------------------+------------------+--------------------+------------------------+-------------+--------------+------------------+------------------+---------------+\n",
      "|         customer_id|           seller_id|            order_id|order_status|order_purchase_timestamp|order_approved_at|order_delivered_carrier_date|order_delivered_customer_date|order_estimated_delivery_date|days_to_delivery|estimated_days_to_delivery|delay_flag_estimated|delay_flag_avg|          product_id|shipping_limit_date|price|freight_value|count|seller_zip_code_prefix|seller_city|seller_state|seller_region|         seller_lat|        seller_lng|  customer_unique_id|customer_zip_code_prefix|customer_city|customer_state|      customer_lat|      customer_lng|customer_region|\n",
      "+--------------------+--------------------+--------------------+------------+------------------------+-----------------+----------------------------+-----------------------------+-----------------------------+----------------+--------------------------+--------------------+--------------+--------------------+-------------------+-----+-------------+-----+----------------------+-----------+------------+-------------+-------------------+------------------+--------------------+------------------------+-------------+--------------+------------------+------------------+---------------+\n",
      "|000379cdec6255224...|4a3ca9315b744ce9f...|0ab7fb08086d4af91...|   delivered|              2018-04-02|       2018-04-04|                  2018-04-04|                   2018-04-13|                   2018-04-18|               9|                        14|                   0|             0|868b3136c5b206f91...|2018-04-10 03:10:19| 93.0|        14.01|    1|                 14940|   ibitinga|          SP|       남동부|  -21.7664768468313|-48.83154737836604|0b83f73b19c2019e1...|                    4841|    sao paulo|            SP|-23.73870891292228|-46.68933298902944|         남동부|\n",
      "|000379cdec6255224...|4a3ca9315b744ce9f...|0ab7fb08086d4af91...|   delivered|              2018-04-02|       2018-04-04|                  2018-04-04|                   2018-04-13|                   2018-04-18|               9|                        14|                   0|             0|868b3136c5b206f91...|2018-04-10 03:10:19| 93.0|        14.01|    1|                 14940|   ibitinga|          SP|       남동부|  -21.7506212217083|-48.83149741274348|0b83f73b19c2019e1...|                    4841|    sao paulo|            SP|-23.73870891292228|-46.68933298902944|         남동부|\n",
      "|000379cdec6255224...|4a3ca9315b744ce9f...|0ab7fb08086d4af91...|   delivered|              2018-04-02|       2018-04-04|                  2018-04-04|                   2018-04-13|                   2018-04-18|               9|                        14|                   0|             0|868b3136c5b206f91...|2018-04-10 03:10:19| 93.0|        14.01|    1|                 14940|   ibitinga|          SP|       남동부|-21.748902703984903|-48.81459759986821|0b83f73b19c2019e1...|                    4841|    sao paulo|            SP|-23.73870891292228|-46.68933298902944|         남동부|\n",
      "|000379cdec6255224...|4a3ca9315b744ce9f...|0ab7fb08086d4af91...|   delivered|              2018-04-02|       2018-04-04|                  2018-04-04|                   2018-04-13|                   2018-04-18|               9|                        14|                   0|             0|868b3136c5b206f91...|2018-04-10 03:10:19| 93.0|        14.01|    1|                 14940|   ibitinga|          SP|       남동부|-21.752014489691742| -48.8391193720703|0b83f73b19c2019e1...|                    4841|    sao paulo|            SP|-23.73870891292228|-46.68933298902944|         남동부|\n",
      "|000379cdec6255224...|4a3ca9315b744ce9f...|0ab7fb08086d4af91...|   delivered|              2018-04-02|       2018-04-04|                  2018-04-04|                   2018-04-13|                   2018-04-18|               9|                        14|                   0|             0|868b3136c5b206f91...|2018-04-10 03:10:19| 93.0|        14.01|    1|                 14940|   ibitinga|          SP|       남동부| -21.75355579354766|-48.84118562023449|0b83f73b19c2019e1...|                    4841|    sao paulo|            SP|-23.73870891292228|-46.68933298902944|         남동부|\n",
      "+--------------------+--------------------+--------------------+------------+------------------------+-----------------+----------------------------+-----------------------------+-----------------------------+----------------+--------------------------+--------------------+--------------+--------------------+-------------------+-----+-------------+-----+----------------------+-----------+------------+-------------+-------------------+------------------+--------------------+------------------------+-------------+--------------+------------------+------------------+---------------+\n",
      "only showing top 5 rows\n",
      "\n"
     ]
    },
    {
     "name": "stderr",
     "output_type": "stream",
     "text": [
      "                                                                                \r"
     ]
    }
   ],
   "source": [
    "customers = spark.read.csv('/app/spark/Olist/dim_table/dim_customers.csv',inferSchema=True,header=True)\n",
    "mart_overall = order_items.join(customers,on='customer_id')\n",
    "mart_overall.show(5)"
   ]
  },
  {
   "cell_type": "code",
   "execution_count": 21,
   "id": "465f82bd-61c8-4438-889d-0a3e106cae42",
   "metadata": {},
   "outputs": [],
   "source": [
    "col = ['seller_lat', 'seller_lng', 'customer_lat', 'customer_lng']"
   ]
  },
  {
   "cell_type": "code",
   "execution_count": 22,
   "id": "2eaf50b0-5e4f-4fa6-b940-9f6898809eab",
   "metadata": {},
   "outputs": [],
   "source": [
    "from geopy.distance import geodesic\n",
    "\n",
    "def calculate_distance(x):\n",
    "    seller_coords = (x['seller_lat'], x['seller_lng'])\n",
    "    customer_coords = (x['customer_lat'], x['customer_lng'])\n",
    "    return geodesic(seller_coords, customer_coords).kilometers "
   ]
  },
  {
   "cell_type": "code",
   "execution_count": null,
   "id": "5f4c8b99",
   "metadata": {},
   "outputs": [
    {
     "name": "stderr",
     "output_type": "stream",
     "text": [
      "[Stage 69:>                                                         (0 + 8) / 8]\r"
     ]
    }
   ],
   "source": [
    "mart_overall = mart_overall.toPandas()"
   ]
  },
  {
   "cell_type": "code",
   "execution_count": 23,
   "id": "367f2b84-b481-4a0e-a308-575882e387d6",
   "metadata": {},
   "outputs": [
    {
     "ename": "AttributeError",
     "evalue": "'DataFrame' object has no attribute 'apply'",
     "output_type": "error",
     "traceback": [
      "\u001b[0;31m---------------------------------------------------------------------------\u001b[0m",
      "\u001b[0;31mAttributeError\u001b[0m                            Traceback (most recent call last)",
      "Cell \u001b[0;32mIn[23], line 1\u001b[0m\n\u001b[0;32m----> 1\u001b[0m mart_overall[\u001b[38;5;124m'\u001b[39m\u001b[38;5;124mdistance\u001b[39m\u001b[38;5;124m'\u001b[39m] \u001b[38;5;241m=\u001b[39m \u001b[43mmart_overall\u001b[49m\u001b[43m[\u001b[49m\u001b[43mcol\u001b[49m\u001b[43m]\u001b[49m\u001b[38;5;241;43m.\u001b[39;49m\u001b[43mapply\u001b[49m(\u001b[38;5;28;01mlambda\u001b[39;00m x: calculate_distance(x), axis\u001b[38;5;241m=\u001b[39m\u001b[38;5;241m1\u001b[39m)\n\u001b[1;32m      2\u001b[0m mart_overall[\u001b[38;5;124m'\u001b[39m\u001b[38;5;124mdistance\u001b[39m\u001b[38;5;124m'\u001b[39m]\n",
      "File \u001b[0;32m/usr/local/lib/python3.10/dist-packages/pyspark/sql/dataframe.py:3129\u001b[0m, in \u001b[0;36mDataFrame.__getattr__\u001b[0;34m(self, name)\u001b[0m\n\u001b[1;32m   3096\u001b[0m \u001b[38;5;250m\u001b[39m\u001b[38;5;124;03m\"\"\"Returns the :class:`Column` denoted by ``name``.\u001b[39;00m\n\u001b[1;32m   3097\u001b[0m \n\u001b[1;32m   3098\u001b[0m \u001b[38;5;124;03m.. versionadded:: 1.3.0\u001b[39;00m\n\u001b[0;32m   (...)\u001b[0m\n\u001b[1;32m   3126\u001b[0m \u001b[38;5;124;03m+---+\u001b[39;00m\n\u001b[1;32m   3127\u001b[0m \u001b[38;5;124;03m\"\"\"\u001b[39;00m\n\u001b[1;32m   3128\u001b[0m \u001b[38;5;28;01mif\u001b[39;00m name \u001b[38;5;129;01mnot\u001b[39;00m \u001b[38;5;129;01min\u001b[39;00m \u001b[38;5;28mself\u001b[39m\u001b[38;5;241m.\u001b[39mcolumns:\n\u001b[0;32m-> 3129\u001b[0m     \u001b[38;5;28;01mraise\u001b[39;00m \u001b[38;5;167;01mAttributeError\u001b[39;00m(\n\u001b[1;32m   3130\u001b[0m         \u001b[38;5;124m\"\u001b[39m\u001b[38;5;124m'\u001b[39m\u001b[38;5;132;01m%s\u001b[39;00m\u001b[38;5;124m'\u001b[39m\u001b[38;5;124m object has no attribute \u001b[39m\u001b[38;5;124m'\u001b[39m\u001b[38;5;132;01m%s\u001b[39;00m\u001b[38;5;124m'\u001b[39m\u001b[38;5;124m\"\u001b[39m \u001b[38;5;241m%\u001b[39m (\u001b[38;5;28mself\u001b[39m\u001b[38;5;241m.\u001b[39m\u001b[38;5;18m__class__\u001b[39m\u001b[38;5;241m.\u001b[39m\u001b[38;5;18m__name__\u001b[39m, name)\n\u001b[1;32m   3131\u001b[0m     )\n\u001b[1;32m   3132\u001b[0m jc \u001b[38;5;241m=\u001b[39m \u001b[38;5;28mself\u001b[39m\u001b[38;5;241m.\u001b[39m_jdf\u001b[38;5;241m.\u001b[39mapply(name)\n\u001b[1;32m   3133\u001b[0m \u001b[38;5;28;01mreturn\u001b[39;00m Column(jc)\n",
      "\u001b[0;31mAttributeError\u001b[0m: 'DataFrame' object has no attribute 'apply'"
     ]
    }
   ],
   "source": [
    "mart_overall['distance'] = mart_overall[col].apply(lambda x: calculate_distance(x), axis=1)\n",
    "mart_overall['distance']"
   ]
  },
  {
   "cell_type": "code",
   "execution_count": 27,
   "id": "6abb0157-9170-4f42-8faa-b417e7e35a96",
   "metadata": {},
   "outputs": [
    {
     "data": {
      "text/html": [
       "<div>\n",
       "<style scoped>\n",
       "    .dataframe tbody tr th:only-of-type {\n",
       "        vertical-align: middle;\n",
       "    }\n",
       "\n",
       "    .dataframe tbody tr th {\n",
       "        vertical-align: top;\n",
       "    }\n",
       "\n",
       "    .dataframe thead th {\n",
       "        text-align: right;\n",
       "    }\n",
       "</style>\n",
       "<table border=\"1\" class=\"dataframe\">\n",
       "  <thead>\n",
       "    <tr style=\"text-align: right;\">\n",
       "      <th></th>\n",
       "      <th>order_id</th>\n",
       "      <th>customer_id</th>\n",
       "      <th>order_status</th>\n",
       "      <th>order_purchase_timestamp</th>\n",
       "      <th>order_approved_at</th>\n",
       "      <th>order_delivered_carrier_date</th>\n",
       "      <th>order_delivered_customer_date</th>\n",
       "      <th>order_estimated_delivery_date</th>\n",
       "      <th>days_to_delivery</th>\n",
       "      <th>estimated_days_to_delivery</th>\n",
       "      <th>...</th>\n",
       "      <th>seller_city</th>\n",
       "      <th>seller_state</th>\n",
       "      <th>seller_region</th>\n",
       "      <th>season</th>\n",
       "      <th>customer_unique_id</th>\n",
       "      <th>customer_zip_code_prefix</th>\n",
       "      <th>customer_city</th>\n",
       "      <th>customer_state</th>\n",
       "      <th>customer_region</th>\n",
       "      <th>distance</th>\n",
       "    </tr>\n",
       "  </thead>\n",
       "  <tbody>\n",
       "    <tr>\n",
       "      <th>0</th>\n",
       "      <td>e481f51cbdc54678b7cc49136f2d6af7</td>\n",
       "      <td>9ef432eb6251297304e76186b10a928d</td>\n",
       "      <td>delivered</td>\n",
       "      <td>2017-10-02 10:56:33</td>\n",
       "      <td>2017-10-02 11:07:15</td>\n",
       "      <td>2017-10-04 19:55:00</td>\n",
       "      <td>2017-10-10 21:25:13</td>\n",
       "      <td>2017-10-18</td>\n",
       "      <td>8</td>\n",
       "      <td>15</td>\n",
       "      <td>...</td>\n",
       "      <td>maua</td>\n",
       "      <td>SP</td>\n",
       "      <td>남동부</td>\n",
       "      <td>rainy</td>\n",
       "      <td>7c396fd4830fd04220f754e42b4e5bff</td>\n",
       "      <td>3149</td>\n",
       "      <td>sao paulo</td>\n",
       "      <td>SP</td>\n",
       "      <td>남동부</td>\n",
       "      <td>18.566632</td>\n",
       "    </tr>\n",
       "    <tr>\n",
       "      <th>1</th>\n",
       "      <td>53cdb2fc8bc7dce0b6741e2150273451</td>\n",
       "      <td>b0830fb4747a6c6d20dea0b8c802d7ef</td>\n",
       "      <td>delivered</td>\n",
       "      <td>2018-07-24 20:41:37</td>\n",
       "      <td>2018-07-26 03:24:27</td>\n",
       "      <td>2018-07-26 14:31:00</td>\n",
       "      <td>2018-08-07 15:27:45</td>\n",
       "      <td>2018-08-13</td>\n",
       "      <td>12</td>\n",
       "      <td>17</td>\n",
       "      <td>...</td>\n",
       "      <td>belo horizonte</td>\n",
       "      <td>MG</td>\n",
       "      <td>남동부</td>\n",
       "      <td>dry</td>\n",
       "      <td>af07308b275d755c9edb36a90c618231</td>\n",
       "      <td>47813</td>\n",
       "      <td>barreiras</td>\n",
       "      <td>TO</td>\n",
       "      <td>북부</td>\n",
       "      <td>856.076259</td>\n",
       "    </tr>\n",
       "    <tr>\n",
       "      <th>2</th>\n",
       "      <td>53cdb2fc8bc7dce0b6741e2150273451</td>\n",
       "      <td>b0830fb4747a6c6d20dea0b8c802d7ef</td>\n",
       "      <td>delivered</td>\n",
       "      <td>2018-07-24 20:41:37</td>\n",
       "      <td>2018-07-26 03:24:27</td>\n",
       "      <td>2018-07-26 14:31:00</td>\n",
       "      <td>2018-08-07 15:27:45</td>\n",
       "      <td>2018-08-13</td>\n",
       "      <td>12</td>\n",
       "      <td>17</td>\n",
       "      <td>...</td>\n",
       "      <td>belo horizonte</td>\n",
       "      <td>MG</td>\n",
       "      <td>남동부</td>\n",
       "      <td>dry</td>\n",
       "      <td>af07308b275d755c9edb36a90c618231</td>\n",
       "      <td>47813</td>\n",
       "      <td>barreiras</td>\n",
       "      <td>BA</td>\n",
       "      <td>북동부</td>\n",
       "      <td>961.437029</td>\n",
       "    </tr>\n",
       "    <tr>\n",
       "      <th>3</th>\n",
       "      <td>47770eb9100c2d0c44946d9cf07ec65d</td>\n",
       "      <td>41ce2a54c0b03bf3443c3d931a367089</td>\n",
       "      <td>delivered</td>\n",
       "      <td>2018-08-08 08:38:49</td>\n",
       "      <td>2018-08-08 08:55:23</td>\n",
       "      <td>2018-08-08 13:50:00</td>\n",
       "      <td>2018-08-17 18:06:29</td>\n",
       "      <td>2018-09-04</td>\n",
       "      <td>9</td>\n",
       "      <td>26</td>\n",
       "      <td>...</td>\n",
       "      <td>guariba</td>\n",
       "      <td>SP</td>\n",
       "      <td>남동부</td>\n",
       "      <td>dry</td>\n",
       "      <td>3a653a41f6f9fc3d2a113cf8398680e8</td>\n",
       "      <td>75265</td>\n",
       "      <td>vianopolis</td>\n",
       "      <td>GO</td>\n",
       "      <td>중서부</td>\n",
       "      <td>512.100044</td>\n",
       "    </tr>\n",
       "    <tr>\n",
       "      <th>4</th>\n",
       "      <td>949d5b44dbf5de918fe9c16f97b45f8a</td>\n",
       "      <td>f88197465ea7920adcdbec7375364d82</td>\n",
       "      <td>delivered</td>\n",
       "      <td>2017-11-18 19:28:06</td>\n",
       "      <td>2017-11-18 19:45:59</td>\n",
       "      <td>2017-11-22 13:39:59</td>\n",
       "      <td>2017-12-02 00:28:42</td>\n",
       "      <td>2017-12-15</td>\n",
       "      <td>13</td>\n",
       "      <td>26</td>\n",
       "      <td>...</td>\n",
       "      <td>belo horizonte</td>\n",
       "      <td>MG</td>\n",
       "      <td>남동부</td>\n",
       "      <td>rainy</td>\n",
       "      <td>7c142cf63193a1473d2e66489a9ae977</td>\n",
       "      <td>59296</td>\n",
       "      <td>sao goncalo do amarante</td>\n",
       "      <td>RN</td>\n",
       "      <td>북동부</td>\n",
       "      <td>1816.085655</td>\n",
       "    </tr>\n",
       "  </tbody>\n",
       "</table>\n",
       "<p>5 rows × 29 columns</p>\n",
       "</div>"
      ],
      "text/plain": [
       "                           order_id                       customer_id  \\\n",
       "0  e481f51cbdc54678b7cc49136f2d6af7  9ef432eb6251297304e76186b10a928d   \n",
       "1  53cdb2fc8bc7dce0b6741e2150273451  b0830fb4747a6c6d20dea0b8c802d7ef   \n",
       "2  53cdb2fc8bc7dce0b6741e2150273451  b0830fb4747a6c6d20dea0b8c802d7ef   \n",
       "3  47770eb9100c2d0c44946d9cf07ec65d  41ce2a54c0b03bf3443c3d931a367089   \n",
       "4  949d5b44dbf5de918fe9c16f97b45f8a  f88197465ea7920adcdbec7375364d82   \n",
       "\n",
       "  order_status order_purchase_timestamp    order_approved_at  \\\n",
       "0    delivered      2017-10-02 10:56:33  2017-10-02 11:07:15   \n",
       "1    delivered      2018-07-24 20:41:37  2018-07-26 03:24:27   \n",
       "2    delivered      2018-07-24 20:41:37  2018-07-26 03:24:27   \n",
       "3    delivered      2018-08-08 08:38:49  2018-08-08 08:55:23   \n",
       "4    delivered      2017-11-18 19:28:06  2017-11-18 19:45:59   \n",
       "\n",
       "  order_delivered_carrier_date order_delivered_customer_date  \\\n",
       "0          2017-10-04 19:55:00           2017-10-10 21:25:13   \n",
       "1          2018-07-26 14:31:00           2018-08-07 15:27:45   \n",
       "2          2018-07-26 14:31:00           2018-08-07 15:27:45   \n",
       "3          2018-08-08 13:50:00           2018-08-17 18:06:29   \n",
       "4          2017-11-22 13:39:59           2017-12-02 00:28:42   \n",
       "\n",
       "  order_estimated_delivery_date  days_to_delivery  estimated_days_to_delivery  \\\n",
       "0                    2017-10-18                 8                          15   \n",
       "1                    2018-08-13                12                          17   \n",
       "2                    2018-08-13                12                          17   \n",
       "3                    2018-09-04                 9                          26   \n",
       "4                    2017-12-15                13                          26   \n",
       "\n",
       "   ...     seller_city  seller_state seller_region season  \\\n",
       "0  ...            maua            SP           남동부  rainy   \n",
       "1  ...  belo horizonte            MG           남동부    dry   \n",
       "2  ...  belo horizonte            MG           남동부    dry   \n",
       "3  ...         guariba            SP           남동부    dry   \n",
       "4  ...  belo horizonte            MG           남동부  rainy   \n",
       "\n",
       "                 customer_unique_id  customer_zip_code_prefix  \\\n",
       "0  7c396fd4830fd04220f754e42b4e5bff                      3149   \n",
       "1  af07308b275d755c9edb36a90c618231                     47813   \n",
       "2  af07308b275d755c9edb36a90c618231                     47813   \n",
       "3  3a653a41f6f9fc3d2a113cf8398680e8                     75265   \n",
       "4  7c142cf63193a1473d2e66489a9ae977                     59296   \n",
       "\n",
       "             customer_city  customer_state  customer_region     distance  \n",
       "0                sao paulo              SP              남동부    18.566632  \n",
       "1                barreiras              TO               북부   856.076259  \n",
       "2                barreiras              BA              북동부   961.437029  \n",
       "3               vianopolis              GO              중서부   512.100044  \n",
       "4  sao goncalo do amarante              RN              북동부  1816.085655  \n",
       "\n",
       "[5 rows x 29 columns]"
      ]
     },
     "execution_count": 27,
     "metadata": {},
     "output_type": "execute_result"
    }
   ],
   "source": [
    "overall_joined.drop(columns=['seller_lat', 'seller_lng', 'customer_lat', 'customer_lng'], inplace=True)\n",
    "overall_joined.head()"
   ]
  },
  {
   "cell_type": "code",
   "execution_count": null,
   "id": "b371d806-9485-4aee-b57a-b83eec65db7e",
   "metadata": {},
   "outputs": [],
   "source": [
    "# overall_joined.to_csv('mart_orders.csv', index=False)"
   ]
  }
 ],
 "metadata": {
  "kernelspec": {
   "display_name": "Python 3",
   "language": "python",
   "name": "python3"
  },
  "language_info": {
   "codemirror_mode": {
    "name": "ipython",
    "version": 3
   },
   "file_extension": ".py",
   "mimetype": "text/x-python",
   "name": "python",
   "nbconvert_exporter": "python",
   "pygments_lexer": "ipython3",
   "version": "3.10.12"
  }
 },
 "nbformat": 4,
 "nbformat_minor": 5
}
