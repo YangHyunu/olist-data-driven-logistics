{
 "cells": [
  {
   "cell_type": "code",
   "execution_count": 69,
   "metadata": {},
   "outputs": [],
   "source": [
    "import pandas as pd\n",
    "import numpy as np\n",
    "import matplotlib.pyplot as plt\n",
    "import seaborn as sns"
   ]
  },
  {
   "cell_type": "code",
   "execution_count": 70,
   "metadata": {},
   "outputs": [
    {
     "data": {
      "text/plain": [
       "(98347, 18)"
      ]
     },
     "execution_count": 70,
     "metadata": {},
     "output_type": "execute_result"
    }
   ],
   "source": [
    "orders = pd.read_csv('mart_overall.csv')\n",
    "orders.shape"
   ]
  },
  {
   "cell_type": "code",
   "execution_count": 71,
   "metadata": {},
   "outputs": [
    {
     "data": {
      "text/plain": [
       "Index(['order_id', 'product_id', 'customer_id', 'seller_id', 'order_status',\n",
       "       'order_purchase_timestamp', 'order_approved_at',\n",
       "       'order_delivered_carrier_date', 'order_delivered_customer_date',\n",
       "       'order_estimated_delivery_date', 'days_to_delivery',\n",
       "       'estimated_days_to_delivery', 'delay_flag_estimated', 'delay_flag_avg',\n",
       "       'price', 'freight_value', 'quantity', 'distance'],\n",
       "      dtype='object')"
      ]
     },
     "execution_count": 71,
     "metadata": {},
     "output_type": "execute_result"
    }
   ],
   "source": [
    "orders.columns"
   ]
  },
  {
   "cell_type": "code",
   "execution_count": 72,
   "metadata": {},
   "outputs": [
    {
     "data": {
      "text/html": [
       "<div>\n",
       "<style scoped>\n",
       "    .dataframe tbody tr th:only-of-type {\n",
       "        vertical-align: middle;\n",
       "    }\n",
       "\n",
       "    .dataframe tbody tr th {\n",
       "        vertical-align: top;\n",
       "    }\n",
       "\n",
       "    .dataframe thead th {\n",
       "        text-align: right;\n",
       "    }\n",
       "</style>\n",
       "<table border=\"1\" class=\"dataframe\">\n",
       "  <thead>\n",
       "    <tr style=\"text-align: right;\">\n",
       "      <th></th>\n",
       "      <th>order_id</th>\n",
       "      <th>product_id</th>\n",
       "      <th>customer_id</th>\n",
       "      <th>seller_id</th>\n",
       "      <th>order_status</th>\n",
       "      <th>order_purchase_timestamp</th>\n",
       "      <th>order_approved_at</th>\n",
       "      <th>order_delivered_carrier_date</th>\n",
       "      <th>order_delivered_customer_date</th>\n",
       "      <th>order_estimated_delivery_date</th>\n",
       "      <th>...</th>\n",
       "      <th>seller_lat</th>\n",
       "      <th>seller_lng</th>\n",
       "      <th>seller_region</th>\n",
       "      <th>customer_unique_id</th>\n",
       "      <th>customer_zip_code_prefix</th>\n",
       "      <th>customer_city</th>\n",
       "      <th>customer_state</th>\n",
       "      <th>customer_lat</th>\n",
       "      <th>customer_lng</th>\n",
       "      <th>customer_region</th>\n",
       "    </tr>\n",
       "  </thead>\n",
       "  <tbody>\n",
       "    <tr>\n",
       "      <th>0</th>\n",
       "      <td>e481f51cbdc54678b7cc49136f2d6af7</td>\n",
       "      <td>87285b34884572647811a353c7ac498a</td>\n",
       "      <td>9ef432eb6251297304e76186b10a928d</td>\n",
       "      <td>3504c0cb71d7fa48d967e0e4c94d59d9</td>\n",
       "      <td>delivered</td>\n",
       "      <td>2017-10-02 10:56:33</td>\n",
       "      <td>2017-10-02 11:07:15</td>\n",
       "      <td>2017-10-04 19:55:00</td>\n",
       "      <td>2017-10-10 21:25:13</td>\n",
       "      <td>2017-10-18</td>\n",
       "      <td>...</td>\n",
       "      <td>-23.680729</td>\n",
       "      <td>-46.444238</td>\n",
       "      <td>남동부</td>\n",
       "      <td>7c396fd4830fd04220f754e42b4e5bff</td>\n",
       "      <td>3149</td>\n",
       "      <td>sao paulo</td>\n",
       "      <td>SP</td>\n",
       "      <td>-23.576983</td>\n",
       "      <td>-46.587161</td>\n",
       "      <td>남동부</td>\n",
       "    </tr>\n",
       "    <tr>\n",
       "      <th>1</th>\n",
       "      <td>53cdb2fc8bc7dce0b6741e2150273451</td>\n",
       "      <td>595fac2a385ac33a80bd5114aec74eb8</td>\n",
       "      <td>b0830fb4747a6c6d20dea0b8c802d7ef</td>\n",
       "      <td>289cdb325fb7e7f891c38608bf9e0962</td>\n",
       "      <td>delivered</td>\n",
       "      <td>2018-07-24 20:41:37</td>\n",
       "      <td>2018-07-26 03:24:27</td>\n",
       "      <td>2018-07-26 14:31:00</td>\n",
       "      <td>2018-08-07 15:27:45</td>\n",
       "      <td>2018-08-13</td>\n",
       "      <td>...</td>\n",
       "      <td>-19.807681</td>\n",
       "      <td>-43.980427</td>\n",
       "      <td>남동부</td>\n",
       "      <td>af07308b275d755c9edb36a90c618231</td>\n",
       "      <td>47813</td>\n",
       "      <td>barreiras</td>\n",
       "      <td>TO</td>\n",
       "      <td>-12.135259</td>\n",
       "      <td>-45.005406</td>\n",
       "      <td>북부</td>\n",
       "    </tr>\n",
       "    <tr>\n",
       "      <th>2</th>\n",
       "      <td>53cdb2fc8bc7dce0b6741e2150273451</td>\n",
       "      <td>595fac2a385ac33a80bd5114aec74eb8</td>\n",
       "      <td>b0830fb4747a6c6d20dea0b8c802d7ef</td>\n",
       "      <td>289cdb325fb7e7f891c38608bf9e0962</td>\n",
       "      <td>delivered</td>\n",
       "      <td>2018-07-24 20:41:37</td>\n",
       "      <td>2018-07-26 03:24:27</td>\n",
       "      <td>2018-07-26 14:31:00</td>\n",
       "      <td>2018-08-07 15:27:45</td>\n",
       "      <td>2018-08-13</td>\n",
       "      <td>...</td>\n",
       "      <td>-19.807681</td>\n",
       "      <td>-43.980427</td>\n",
       "      <td>남동부</td>\n",
       "      <td>af07308b275d755c9edb36a90c618231</td>\n",
       "      <td>47813</td>\n",
       "      <td>barreiras</td>\n",
       "      <td>BA</td>\n",
       "      <td>-12.945892</td>\n",
       "      <td>-38.456194</td>\n",
       "      <td>북동부</td>\n",
       "    </tr>\n",
       "    <tr>\n",
       "      <th>3</th>\n",
       "      <td>53cdb2fc8bc7dce0b6741e2150273451</td>\n",
       "      <td>595fac2a385ac33a80bd5114aec74eb8</td>\n",
       "      <td>b0830fb4747a6c6d20dea0b8c802d7ef</td>\n",
       "      <td>289cdb325fb7e7f891c38608bf9e0962</td>\n",
       "      <td>delivered</td>\n",
       "      <td>2018-07-24 20:41:37</td>\n",
       "      <td>2018-07-26 03:24:27</td>\n",
       "      <td>2018-07-26 14:31:00</td>\n",
       "      <td>2018-08-07 15:27:45</td>\n",
       "      <td>2018-08-13</td>\n",
       "      <td>...</td>\n",
       "      <td>-19.807681</td>\n",
       "      <td>-43.980427</td>\n",
       "      <td>남동부</td>\n",
       "      <td>af07308b275d755c9edb36a90c618231</td>\n",
       "      <td>47813</td>\n",
       "      <td>barreiras</td>\n",
       "      <td>TO</td>\n",
       "      <td>-12.135259</td>\n",
       "      <td>-45.005406</td>\n",
       "      <td>북부</td>\n",
       "    </tr>\n",
       "    <tr>\n",
       "      <th>4</th>\n",
       "      <td>53cdb2fc8bc7dce0b6741e2150273451</td>\n",
       "      <td>595fac2a385ac33a80bd5114aec74eb8</td>\n",
       "      <td>b0830fb4747a6c6d20dea0b8c802d7ef</td>\n",
       "      <td>289cdb325fb7e7f891c38608bf9e0962</td>\n",
       "      <td>delivered</td>\n",
       "      <td>2018-07-24 20:41:37</td>\n",
       "      <td>2018-07-26 03:24:27</td>\n",
       "      <td>2018-07-26 14:31:00</td>\n",
       "      <td>2018-08-07 15:27:45</td>\n",
       "      <td>2018-08-13</td>\n",
       "      <td>...</td>\n",
       "      <td>-19.807681</td>\n",
       "      <td>-43.980427</td>\n",
       "      <td>남동부</td>\n",
       "      <td>af07308b275d755c9edb36a90c618231</td>\n",
       "      <td>47813</td>\n",
       "      <td>barreiras</td>\n",
       "      <td>BA</td>\n",
       "      <td>-12.945892</td>\n",
       "      <td>-38.456194</td>\n",
       "      <td>북동부</td>\n",
       "    </tr>\n",
       "  </tbody>\n",
       "</table>\n",
       "<p>5 rows × 31 columns</p>\n",
       "</div>"
      ],
      "text/plain": [
       "                           order_id                        product_id  \\\n",
       "0  e481f51cbdc54678b7cc49136f2d6af7  87285b34884572647811a353c7ac498a   \n",
       "1  53cdb2fc8bc7dce0b6741e2150273451  595fac2a385ac33a80bd5114aec74eb8   \n",
       "2  53cdb2fc8bc7dce0b6741e2150273451  595fac2a385ac33a80bd5114aec74eb8   \n",
       "3  53cdb2fc8bc7dce0b6741e2150273451  595fac2a385ac33a80bd5114aec74eb8   \n",
       "4  53cdb2fc8bc7dce0b6741e2150273451  595fac2a385ac33a80bd5114aec74eb8   \n",
       "\n",
       "                        customer_id                         seller_id  \\\n",
       "0  9ef432eb6251297304e76186b10a928d  3504c0cb71d7fa48d967e0e4c94d59d9   \n",
       "1  b0830fb4747a6c6d20dea0b8c802d7ef  289cdb325fb7e7f891c38608bf9e0962   \n",
       "2  b0830fb4747a6c6d20dea0b8c802d7ef  289cdb325fb7e7f891c38608bf9e0962   \n",
       "3  b0830fb4747a6c6d20dea0b8c802d7ef  289cdb325fb7e7f891c38608bf9e0962   \n",
       "4  b0830fb4747a6c6d20dea0b8c802d7ef  289cdb325fb7e7f891c38608bf9e0962   \n",
       "\n",
       "  order_status order_purchase_timestamp    order_approved_at  \\\n",
       "0    delivered      2017-10-02 10:56:33  2017-10-02 11:07:15   \n",
       "1    delivered      2018-07-24 20:41:37  2018-07-26 03:24:27   \n",
       "2    delivered      2018-07-24 20:41:37  2018-07-26 03:24:27   \n",
       "3    delivered      2018-07-24 20:41:37  2018-07-26 03:24:27   \n",
       "4    delivered      2018-07-24 20:41:37  2018-07-26 03:24:27   \n",
       "\n",
       "  order_delivered_carrier_date order_delivered_customer_date  \\\n",
       "0          2017-10-04 19:55:00           2017-10-10 21:25:13   \n",
       "1          2018-07-26 14:31:00           2018-08-07 15:27:45   \n",
       "2          2018-07-26 14:31:00           2018-08-07 15:27:45   \n",
       "3          2018-07-26 14:31:00           2018-08-07 15:27:45   \n",
       "4          2018-07-26 14:31:00           2018-08-07 15:27:45   \n",
       "\n",
       "  order_estimated_delivery_date  ...  seller_lat  seller_lng  seller_region  \\\n",
       "0                    2017-10-18  ...  -23.680729  -46.444238            남동부   \n",
       "1                    2018-08-13  ...  -19.807681  -43.980427            남동부   \n",
       "2                    2018-08-13  ...  -19.807681  -43.980427            남동부   \n",
       "3                    2018-08-13  ...  -19.807681  -43.980427            남동부   \n",
       "4                    2018-08-13  ...  -19.807681  -43.980427            남동부   \n",
       "\n",
       "                 customer_unique_id  customer_zip_code_prefix  customer_city  \\\n",
       "0  7c396fd4830fd04220f754e42b4e5bff                      3149      sao paulo   \n",
       "1  af07308b275d755c9edb36a90c618231                     47813      barreiras   \n",
       "2  af07308b275d755c9edb36a90c618231                     47813      barreiras   \n",
       "3  af07308b275d755c9edb36a90c618231                     47813      barreiras   \n",
       "4  af07308b275d755c9edb36a90c618231                     47813      barreiras   \n",
       "\n",
       "   customer_state  customer_lat  customer_lng customer_region  \n",
       "0              SP    -23.576983    -46.587161             남동부  \n",
       "1              TO    -12.135259    -45.005406              북부  \n",
       "2              BA    -12.945892    -38.456194             북동부  \n",
       "3              TO    -12.135259    -45.005406              북부  \n",
       "4              BA    -12.945892    -38.456194             북동부  \n",
       "\n",
       "[5 rows x 31 columns]"
      ]
     },
     "execution_count": 72,
     "metadata": {},
     "output_type": "execute_result"
    }
   ],
   "source": [
    "seller = pd.read_csv('dim_sellers.csv')\n",
    "customer = pd.read_csv('dim_customers.csv')\n",
    "orders = pd.merge(orders, seller, on='seller_id', how='left')\n",
    "orders = pd.merge(orders, customer, on='customer_id', how='left')\n",
    "orders.head()"
   ]
  },
  {
   "cell_type": "code",
   "execution_count": 73,
   "metadata": {},
   "outputs": [
    {
     "data": {
      "text/plain": [
       "(99224, 10)"
      ]
     },
     "execution_count": 73,
     "metadata": {},
     "output_type": "execute_result"
    }
   ],
   "source": [
    "reviews = pd.read_csv('dim_review.csv')\n",
    "reviews.shape"
   ]
  },
  {
   "cell_type": "code",
   "execution_count": 74,
   "metadata": {},
   "outputs": [],
   "source": [
    "orders = orders.merge(reviews, on='order_id')"
   ]
  },
  {
   "cell_type": "code",
   "execution_count": 79,
   "metadata": {},
   "outputs": [
    {
     "data": {
      "text/plain": [
       "Index(['order_id', 'product_id', 'customer_id', 'seller_id', 'order_status',\n",
       "       'order_purchase_timestamp', 'order_approved_at',\n",
       "       'order_delivered_carrier_date', 'order_delivered_customer_date',\n",
       "       'order_estimated_delivery_date', 'days_to_delivery',\n",
       "       'estimated_days_to_delivery', 'delay_flag_estimated', 'delay_flag_avg',\n",
       "       'price', 'freight_value', 'quantity', 'distance',\n",
       "       'seller_zip_code_prefix', 'seller_city', 'seller_state', 'seller_lat',\n",
       "       'seller_lng', 'seller_region', 'customer_unique_id',\n",
       "       'customer_zip_code_prefix', 'customer_city', 'customer_state',\n",
       "       'customer_lat', 'customer_lng', 'customer_region', 'review_id',\n",
       "       'review_score', 'review_comment_title', 'review_comment_message',\n",
       "       'review_creation_date', 'review_answer_timestamp',\n",
       "       'review_comment_message_tokens', 'sentimental', 'ngrams'],\n",
       "      dtype='object')"
      ]
     },
     "execution_count": 79,
     "metadata": {},
     "output_type": "execute_result"
    }
   ],
   "source": [
    "orders.columns"
   ]
  },
  {
   "cell_type": "code",
   "execution_count": 80,
   "metadata": {},
   "outputs": [],
   "source": [
    "orders.to_csv('mart_reviews.csv', index=False)"
   ]
  },
  {
   "cell_type": "code",
   "execution_count": 81,
   "metadata": {},
   "outputs": [
    {
     "name": "stderr",
     "output_type": "stream",
     "text": [
      "                                                                                \r"
     ]
    }
   ],
   "source": [
    "from pyspark.sql import SparkSession\n",
    "# Spark 세션 생성\n",
    "spark = SparkSession.builder.appName(\"olist\").getOrCreate()\n",
    "\n",
    "spk_orders = spark.read.csv('mart_reviews.csv', header=True, inferSchema=True)\n",
    "spk_orders.createOrReplaceTempView(\"orders\")"
   ]
  },
  {
   "cell_type": "markdown",
   "metadata": {},
   "source": [
    "- 셀러와 구매자가 같은 주인 그룹 (A) / 셀러와 구매자가 다른 주인 그룹 (B)으로 나누어서 배송기간과 리뷰 점수"
   ]
  },
  {
   "cell_type": "code",
   "execution_count": 82,
   "metadata": {},
   "outputs": [],
   "source": [
    "from pyspark.sql.functions import col, when, count, isnan, isnull, mean, lit, sum, avg, round\n",
    "spk_orders = spk_orders.withColumn(\"same_state\", when(col(\"seller_state\") == col(\"customer_state\"), \"Yes\").otherwise(\"No\"))"
   ]
  },
  {
   "cell_type": "code",
   "execution_count": 83,
   "metadata": {},
   "outputs": [],
   "source": [
    "spk_orders = spk_orders.withColumn(\"delay_flag_estimated\",when(col(\"delay_flag_estimated\") == 1, \"Yes\").otherwise(\"No\"))\n"
   ]
  },
  {
   "cell_type": "code",
   "execution_count": 84,
   "metadata": {},
   "outputs": [],
   "source": [
    "spk_orders = spk_orders.withColumn(\"delay_flag_avg\",when(col(\"delay_flag_avg\") == 1, \"Yes\").otherwise(\"No\"))\n"
   ]
  },
  {
   "cell_type": "code",
   "execution_count": 85,
   "metadata": {},
   "outputs": [
    {
     "name": "stdout",
     "output_type": "stream",
     "text": [
      "+--------------------+--------------------+--------------------+--------------------+------------+------------------------+-------------------+----------------------------+-----------------------------+-----------------------------+----------------+--------------------------+--------------------+--------------+------+-------------+--------+------------------+----------------------+--------------------+------------+-------------------+-------------------+-------------+--------------------+------------------------+--------------------+--------------+-------------------+-------------------+---------------+--------------------+------------+--------------------+----------------------+--------------------+-----------------------+-----------------------------+-----------+--------------------+----------+\n",
      "|            order_id|          product_id|         customer_id|           seller_id|order_status|order_purchase_timestamp|  order_approved_at|order_delivered_carrier_date|order_delivered_customer_date|order_estimated_delivery_date|days_to_delivery|estimated_days_to_delivery|delay_flag_estimated|delay_flag_avg| price|freight_value|quantity|          distance|seller_zip_code_prefix|         seller_city|seller_state|         seller_lat|         seller_lng|seller_region|  customer_unique_id|customer_zip_code_prefix|       customer_city|customer_state|       customer_lat|       customer_lng|customer_region|           review_id|review_score|review_comment_title|review_comment_message|review_creation_date|review_answer_timestamp|review_comment_message_tokens|sentimental|              ngrams|same_state|\n",
      "+--------------------+--------------------+--------------------+--------------------+------------+------------------------+-------------------+----------------------------+-----------------------------+-----------------------------+----------------+--------------------------+--------------------+--------------+------+-------------+--------+------------------+----------------------+--------------------+------------+-------------------+-------------------+-------------+--------------------+------------------------+--------------------+--------------+-------------------+-------------------+---------------+--------------------+------------+--------------------+----------------------+--------------------+-----------------------+-----------------------------+-----------+--------------------+----------+\n",
      "|e481f51cbdc54678b...|87285b34884572647...|9ef432eb625129730...|3504c0cb71d7fa48d...|   delivered|     2017-10-02 10:56:33|2017-10-02 11:07:15|         2017-10-04 19:55:00|          2017-10-10 21:25:13|                   2017-10-18|               8|                        15|                  No|            No| 29.99|         8.72|       1| 18.56663236484241|                  9350|                maua|          SP|-23.680729252163324| -46.44423827270239|       남동부|7c396fd4830fd0422...|                    3149|           sao paulo|            SP| -23.57698293467452| -46.58716127427677|         남동부|a54f0611adc9ed256...|           4|                NULL|  negação testei pr...| 2017-10-11 00:00:00|    2017-10-12 03:43:48|         ['negação', 'test...|   Negative|veio correto, neg...|       Yes|\n",
      "|53cdb2fc8bc7dce0b...|595fac2a385ac33a8...|b0830fb4747a6c6d2...|289cdb325fb7e7f89...|   delivered|     2018-07-24 20:41:37|2018-07-26 03:24:27|         2018-07-26 14:31:00|          2018-08-07 15:27:45|                   2018-08-13|              12|                        17|                  No|           Yes| 118.7|        22.76|       1|  856.076259389407|                 31570|      belo horizonte|          MG| -19.80768065786215| -43.98042684085744|       남동부|af07308b275d755c9...|                   47813|           barreiras|            TO|-12.135259405766826| -45.00540585074388|           북부|8d5266042046a0665...|           4|    Muito boa a loja|           bom produto| 2018-08-08 00:00:00|    2018-08-08 18:37:50|           ['bom', 'produto']|   Positive|bom produto, ador...|        No|\n",
      "|53cdb2fc8bc7dce0b...|595fac2a385ac33a8...|b0830fb4747a6c6d2...|289cdb325fb7e7f89...|   delivered|     2018-07-24 20:41:37|2018-07-26 03:24:27|         2018-07-26 14:31:00|          2018-08-07 15:27:45|                   2018-08-13|              12|                        17|                  No|           Yes| 118.7|        22.76|       1|  856.076259389407|                 31570|      belo horizonte|          MG| -19.80768065786215| -43.98042684085744|       남동부|af07308b275d755c9...|                   47813|           barreiras|            BA|-12.945892499999994| -38.45619449999999|         북동부|8d5266042046a0665...|           4|    Muito boa a loja|           bom produto| 2018-08-08 00:00:00|    2018-08-08 18:37:50|           ['bom', 'produto']|   Positive|bom produto, ador...|        No|\n",
      "|53cdb2fc8bc7dce0b...|595fac2a385ac33a8...|b0830fb4747a6c6d2...|289cdb325fb7e7f89...|   delivered|     2018-07-24 20:41:37|2018-07-26 03:24:27|         2018-07-26 14:31:00|          2018-08-07 15:27:45|                   2018-08-13|              12|                        17|                  No|           Yes| 118.7|        22.76|       1| 961.4370293229758|                 31570|      belo horizonte|          MG| -19.80768065786215| -43.98042684085744|       남동부|af07308b275d755c9...|                   47813|           barreiras|            TO|-12.135259405766826| -45.00540585074388|           북부|8d5266042046a0665...|           4|    Muito boa a loja|           bom produto| 2018-08-08 00:00:00|    2018-08-08 18:37:50|           ['bom', 'produto']|   Positive|bom produto, ador...|        No|\n",
      "|53cdb2fc8bc7dce0b...|595fac2a385ac33a8...|b0830fb4747a6c6d2...|289cdb325fb7e7f89...|   delivered|     2018-07-24 20:41:37|2018-07-26 03:24:27|         2018-07-26 14:31:00|          2018-08-07 15:27:45|                   2018-08-13|              12|                        17|                  No|           Yes| 118.7|        22.76|       1| 961.4370293229758|                 31570|      belo horizonte|          MG| -19.80768065786215| -43.98042684085744|       남동부|af07308b275d755c9...|                   47813|           barreiras|            BA|-12.945892499999994| -38.45619449999999|         북동부|8d5266042046a0665...|           4|    Muito boa a loja|           bom produto| 2018-08-08 00:00:00|    2018-08-08 18:37:50|           ['bom', 'produto']|   Positive|bom produto, ador...|        No|\n",
      "|47770eb9100c2d0c4...|aa4383b373c6aca5d...|41ce2a54c0b03bf34...|4869f7a5dfa277a7d...|   delivered|     2018-08-08 08:38:49|2018-08-08 08:55:23|         2018-08-08 13:50:00|          2018-08-17 18:06:29|                   2018-09-04|               9|                        26|                  No|            No| 159.9|        19.22|       1| 512.1000435081403|                 14840|             guariba|          SP| -21.36350170979939| -48.22960077888057|       남동부|3a653a41f6f9fc3d2...|                   75265|          vianopolis|            GO|-16.745149541882594| -48.51478334802312|         중서부|e73b67b67587f7644...|           5|                NULL|                  NULL| 2018-08-18 00:00:00|    2018-08-22 19:07:58|                           []|    Neutral|                NULL|        No|\n",
      "|949d5b44dbf5de918...|d0b61bfb1de832b15...|f88197465ea7920ad...|66922902710d126a0...|   delivered|     2017-11-18 19:28:06|2017-11-18 19:45:59|         2017-11-22 13:39:59|          2017-12-02 00:28:42|                   2017-12-15|              13|                        26|                  No|           Yes|  45.0|         27.2|       1|1816.0856547649028|                 31842|      belo horizonte|          MG| -19.83768155726055| -43.92405254267352|       남동부|7c142cf63193a1473...|                   59296|sao goncalo do am...|            RN| -5.774190270584408|-35.271143276096765|         북동부|359d03e676b3c069f...|           5|                NULL|  produto exatament...| 2017-12-03 00:00:00|    2017-12-05 19:21:58|         ['produto', 'exat...|    Neutral|produto exatament...|        No|\n",
      "|ad21c59c0840e6cb8...|65266b2da20d04dbe...|8ab97904e6daea886...|2c9e548be18521d1c...|   delivered|     2018-02-13 21:18:39|2018-02-13 22:20:29|         2018-02-14 19:46:34|          2018-02-16 18:17:02|                   2018-02-26|               2|                        12|                  No|            No|  19.9|         8.72|       1|  29.6844011453594|                  8752|     mogi das cruzes|          SP| -23.54339460016357|-46.262085681846166|       남동부|72632f0f9dd73dfee...|                    9195|         santo andre|            SP| -23.67636972794609|  -46.5146273295094|         남동부|e50934924e227544b...|           5|                NULL|                  NULL| 2018-02-17 00:00:00|    2018-02-18 13:02:51|                           []|    Neutral|                NULL|       Yes|\n",
      "|a4591c265e18cb1dc...|060cb19345d90064d...|503740e9ca751ccdd...|8581055ce74af1dab...|   delivered|     2017-07-09 21:57:05|2017-07-09 22:10:13|         2017-07-11 14:58:04|          2017-07-26 10:57:55|                   2017-08-01|              16|                        22|                  No|           Yes| 147.9|        27.36|       1| 412.0735648226322|                  7112|           guarulhos|          SP| -23.46870426001278|-46.516141894926825|       남동부|80bb27c7c16e8f973...|                   86320|        congonhinhas|            PR|-23.553522043896585| -50.54992367333536|           남부|89b738e70a1ce346d...|           4|                NULL|                  NULL| 2017-07-27 00:00:00|    2017-07-27 22:48:30|                           []|    Neutral|                NULL|        No|\n",
      "|6514b8ad8028c9f2c...|4520766ec412348b8...|9bdf08b4b3b52b552...|16090f2ca825584b5...|   delivered|     2017-05-16 13:10:30|2017-05-16 13:22:11|         2017-05-22 10:07:46|          2017-05-26 12:55:51|                   2017-06-07|               9|                        21|                  No|            No| 59.99|        15.17|       1|322.78177853287303|                 12940|             atibaia|          SP| -23.11473052430801| -46.55288053987791|       남동부|932afa1e708222e58...|                   26525|           nilopolis|            RJ|-22.805706631753832| -43.42307905240664|         남동부|07d67dd06ed5f88be...|           5|                NULL|                  NULL| 2017-05-27 00:00:00|    2017-05-28 02:59:57|                           []|    Neutral|                NULL|        No|\n",
      "|76c6e866289321a7c...|ac1789e492dcd698c...|f54a9f0e6b351c431...|63b9ae557efed31d1...|   delivered|     2017-01-23 18:29:09|2017-01-25 02:50:47|         2017-01-26 14:16:31|          2017-02-02 14:08:10|                   2017-03-06|               8|                        39|                  No|            No|  19.9|        16.05|       1| 868.7354847517312|                 13720|sao jose do rio p...|          SP| -21.58298742993432| -46.94775856933444|       남동부|39382392765b6dc74...|                   99655|        faxinalzinho|            RS| -27.42176863536326| -52.67502180601173|           남부|fc4af8aea8ec3f1a3...|           1|                NULL|                  NULL| 2017-02-03 00:00:00|    2017-02-05 01:58:35|                           []|    Neutral|                NULL|        No|\n",
      "|e69bfb5eb88e0ed6a...|9a78fb9862b10749a...|31ad1d1b63eb99624...|7c67e1448b00f6e96...|   delivered|     2017-07-29 11:55:02|2017-07-29 12:05:32|         2017-08-10 19:45:24|          2017-08-16 17:14:30|                   2017-08-23|              18|                        24|                  No|           Yes|149.99|        19.77|       1| 112.4488109077658|                  8577|     itaquaquecetuba|          SP| -23.48611145466222| -46.36672076531711|       남동부|299905e3934e9e181...|                   18075|            sorocaba|            SP| -23.47403034937185| -47.46739714652168|         남동부|abc5655186d40772b...|           5|                NULL|                  NULL| 2017-08-17 00:00:00|    2017-08-18 01:47:32|                           []|    Neutral|                NULL|       Yes|\n",
      "|e6ce16cb79ec1d90b...|08574b074924071f4...|494dded5b201313c6...|001cca7ae9ae17fb1...|   delivered|     2017-05-16 19:41:10|2017-05-16 19:50:18|         2017-05-18 11:40:40|          2017-05-29 11:18:31|                   2017-06-07|              12|                        21|                  No|           Yes|  99.0|        30.53|       2| 414.4295916171079|                 29156|           cariacica|          ES| -20.27851289140612| -40.41167522341207|       남동부|f2a85dec752b8517b...|                   20780|      rio de janeiro|            RJ|  -22.8964631877728| -43.27217170225893|         남동부|15898b543726a832d...|           1|                NULL|  aguardando retorn...| 2017-05-30 00:00:00|    2017-05-30 23:13:47|         ['aguardando', 'r...|    Neutral|aguardando retorn...|        No|\n",
      "|34513ce0c4fab462a...|f7e0fa615b386bc9a...|7711cf624183d843a...|87142160b41353c4e...|   delivered|     2017-07-13 19:58:11|2017-07-13 20:10:08|         2017-07-14 18:43:29|          2017-07-19 14:04:48|                   2017-08-08|               5|                        25|                  No|            No|  98.0|        16.13|       1| 843.7621479357728|                 90230|        porto alegre|          RS| -30.00818156770629| -51.20130443913637|         남부|782987b81c92239d9...|                    4278|           sao paulo|            SP| -23.60185598318482| -46.60890962544776|         남동부|a932e1fddc0c17fc2...|           4|                NULL|                  NULL| 2017-07-20 00:00:00|    2017-07-22 20:11:54|                           []|    Neutral|                NULL|        No|\n",
      "|82566a660a982b15f...|72a97c271b2e42997...|d3e3b74c766bc6214...|094ced053e257ae8c...|   delivered|     2018-06-07 10:06:19|2018-06-09 03:13:12|         2018-06-11 13:29:00|          2018-06-19 12:05:52|                   2018-07-18|              10|                        38|                  No|            No|  31.9|        18.23|       1| 452.3558744871585|                 14095|      ribeirao preto|          SP|-21.191022995550163| -47.76791416876063|       남동부|e97109680b052ee85...|                   35400|          ouro preto|            MG| -20.39101146673796|-43.507047162023525|         남동부|ed220e853e96b6291...|           5|                NULL|                  NULL| 2018-06-20 00:00:00|    2018-06-20 15:31:29|                           []|    Neutral|                NULL|        No|\n",
      "|5ff96c15d0b717ac6...|10adb53d8faa890ca...|19402a48fe860416a...|1900267e848ceeba8...|   delivered|     2018-07-25 17:44:10|2018-07-25 17:55:14|         2018-07-26 13:16:00|          2018-07-30 15:52:25|                   2018-08-08|               4|                        13|                  No|            No|  19.9|         12.8|       1| 308.7603195636562|                 14940|            ibitinga|          SP| -21.75732063771276| -48.82974353343716|       남동부|e2dfa3127fedbbca9...|                    4812|           sao paulo|            SP|-23.713190055129683| -46.68740654135837|         남동부|346e42116863ea64d...|           5|                NULL|                  NULL| 2018-07-31 00:00:00|    2018-08-02 21:15:12|                           []|    Neutral|                NULL|       Yes|\n",
      "|432aaf21d85167c2c...|72d3bf1d3a790f887...|3df704f53d3f1d481...|0bae85eb84b9fb3bd...|   delivered|     2018-03-01 14:14:28|2018-03-01 15:10:47|         2018-03-02 21:09:20|          2018-03-12 23:36:26|                   2018-03-21|              11|                        19|                  No|           Yes| 38.25|        16.11|       1| 428.9719409968604|                 88301|              itajai|          SC| -26.91187688025883| -48.65639411001171|         남부|04cf8185c71090d28...|                    5271|           sao paulo|            SP|-23.429709785931948| -46.79422972458774|         남동부|8f39f09c22b1ceb6e...|           4|                NULL|        gostei produto| 2018-03-13 00:00:00|    2018-03-14 10:36:16|         ['gostei', 'produ...|   Positive|gostei produto, a...|        No|\n",
      "|dcb36b511fcac050b...|009c09f439988bc06...|3b6828a50ffe54694...|89a51f50b8095ea78...|   delivered|     2018-06-07 19:03:12|2018-06-12 23:31:02|         2018-06-11 14:54:00|          2018-06-21 15:34:32|                   2018-07-04|               8|                        21|                  No|            No| 132.4|        14.05|       1| 161.1210713943329|                 71931|            brasilia|          DF| -15.83679338044598| -48.03955332417536|       중서부|ccafc1c3f27041052...|                   74820|             goiania|            GO| -16.70612897434552| -49.24875756948971|         중서부|5a8608437f4b52bec...|           5|            Nota dez|  obrigado atenção ...| 2018-07-03 00:00:00|    2018-07-03 15:10:07|         ['obrigado', 'ate...|   Positive|lojas lannister, ...|        No|\n",
      "|116f0b09343b49556...|a47295965bd091207...|3187789bec9909876...|ea8482cd71df3c196...|   delivered|     2017-12-26 23:41:31|2017-12-26 23:50:22|         2017-12-28 18:33:05|          2018-01-08 22:36:36|                   2018-01-29|              12|                        33|                  No|           Yes| 27.99|         15.1|       1| 550.7164777629624|                  4160|           sao paulo|          SP| -23.62547545562188| -46.61200044104113|       남동부|6087cfc70fd833cf2...|                   88780|            imbituba|            SC|-28.231882617674767| -48.67933195388163|           남부|0c00083494717bc36...|           5|                NULL|                  NULL| 2018-01-09 00:00:00|    2018-01-12 01:09:35|                           []|    Neutral|                NULL|        No|\n",
      "|85ce859fd6dc634de...|cce679660c66e6fbd...|059f7fc5719c7da6c...|d2374cbcbb3ca4ab1...|   delivered|     2017-11-21 00:03:41|2017-11-21 00:14:22|         2017-11-23 21:32:26|          2017-11-27 18:28:00|                   2017-12-11|               6|                        19|                  No|            No|  17.9|        11.85|       1| 209.6606162895269|                 14940|            ibitinga|          SP| -21.75732063771276| -48.82974353343716|       남동부|d0ff1a7468fcc46b8...|                   13186|         hortolandia|            SP|-22.889982360458344| -47.19898012005198|         남동부|70c498f6918af37d6...|           5|                NULL|                  NULL| 2017-11-28 00:00:00|    2017-11-28 22:12:02|                           []|    Neutral|                NULL|       Yes|\n",
      "+--------------------+--------------------+--------------------+--------------------+------------+------------------------+-------------------+----------------------------+-----------------------------+-----------------------------+----------------+--------------------------+--------------------+--------------+------+-------------+--------+------------------+----------------------+--------------------+------------+-------------------+-------------------+-------------+--------------------+------------------------+--------------------+--------------+-------------------+-------------------+---------------+--------------------+------------+--------------------+----------------------+--------------------+-----------------------+-----------------------------+-----------+--------------------+----------+\n",
      "only showing top 20 rows\n",
      "\n"
     ]
    }
   ],
   "source": [
    "spk_orders.show()"
   ]
  },
  {
   "cell_type": "code",
   "execution_count": 86,
   "metadata": {},
   "outputs": [
    {
     "name": "stderr",
     "output_type": "stream",
     "text": [
      "[Stage 95:=======================>                                 (5 + 7) / 12]\r"
     ]
    },
    {
     "name": "stdout",
     "output_type": "stream",
     "text": [
      "+-----------------+-----+----------+------------------------------+--------------------+\n",
      "| avg_review_score|  cnt|same_state|avg_estimated_days_to_delivery|avg_days_to_delivery|\n",
      "+-----------------+-----+----------+------------------------------+--------------------+\n",
      "|4.206247767236931|56047|        No|            25.391590256552746|  12.180248481721113|\n",
      "|4.273393553205891|33692|       Yes|            16.300585860000467|   6.501085358168195|\n",
      "+-----------------+-----+----------+------------------------------+--------------------+\n",
      "\n"
     ]
    },
    {
     "name": "stderr",
     "output_type": "stream",
     "text": [
      "                                                                                \r"
     ]
    }
   ],
   "source": [
    "# Create a temporary view from the DataFrame\n",
    "spk_orders.createOrReplaceTempView(\"df_view\")\n",
    "\n",
    "query = \"\"\"\n",
    "    SELECT AVG(review_score) as avg_review_score,COUNT(DISTINCT order_id) as cnt, same_state ,AVG(estimated_days_to_delivery) as avg_estimated_days_to_delivery , AVG(days_to_delivery) as avg_days_to_delivery\n",
    "    FROM df_view\n",
    "    GROUP BY same_state\n",
    "    ORDER BY same_state\n",
    "\"\"\"\n",
    "spark.sql(query).show()"
   ]
  },
  {
   "cell_type": "code",
   "execution_count": 87,
   "metadata": {},
   "outputs": [
    {
     "name": "stdout",
     "output_type": "stream",
     "text": [
      "+----------------+\n",
      "|avg_review_score|\n",
      "+----------------+\n",
      "|4.23053993345831|\n",
      "+----------------+\n",
      "\n"
     ]
    }
   ],
   "source": [
    "query = \"\"\"\n",
    "    SELECT AVG(review_score) as avg_review_score\n",
    "    FROM df_view\n",
    "\"\"\"\n",
    "spark.sql(query).show()"
   ]
  },
  {
   "cell_type": "code",
   "execution_count": 88,
   "metadata": {},
   "outputs": [
    {
     "name": "stderr",
     "output_type": "stream",
     "text": [
      "[Stage 104:==============>                                         (3 + 9) / 12]\r"
     ]
    },
    {
     "name": "stdout",
     "output_type": "stream",
     "text": [
      "+----------+--------------------+-----+\n",
      "|same_state|delay_flag_estimated|  cnt|\n",
      "+----------+--------------------+-----+\n",
      "|        No|                  No|54075|\n",
      "|        No|                 Yes| 1972|\n",
      "|       Yes|                  No|32104|\n",
      "|       Yes|                 Yes| 1588|\n",
      "+----------+--------------------+-----+\n",
      "\n"
     ]
    },
    {
     "name": "stderr",
     "output_type": "stream",
     "text": [
      "                                                                                \r"
     ]
    }
   ],
   "source": [
    "# Create a temporary view from the DataFrame\n",
    "spk_orders.createOrReplaceTempView(\"df_view\")\n",
    "\n",
    "query = \"\"\"\n",
    "    SELECT  same_state ,delay_flag_estimated,COUNT(DISTINCT order_id) as cnt\n",
    "    FROM df_view\n",
    "    GROUP BY same_state,delay_flag_estimated\n",
    "    ORDER BY same_state,delay_flag_estimated\n",
    "\"\"\"\n",
    "spark.sql(query).show()"
   ]
  },
  {
   "cell_type": "code",
   "execution_count": 89,
   "metadata": {},
   "outputs": [],
   "source": [
    "df = spk_orders"
   ]
  },
  {
   "cell_type": "code",
   "execution_count": 90,
   "metadata": {},
   "outputs": [
    {
     "name": "stdout",
     "output_type": "stream",
     "text": [
      "Correlation:  -0.17466135223796891\n",
      "P-value:  0.0\n"
     ]
    }
   ],
   "source": [
    "import scipy.stats as stats\n",
    "pdf = df.select('review_score', 'days_to_delivery').toPandas()\n",
    "\n",
    "# Convert review_score to numeric\n",
    "pdf['review_score'] = pd.to_numeric(pdf['review_score'])\n",
    "\n",
    "corr, p_value = stats.pearsonr(pdf['review_score'], pdf['days_to_delivery'])\n",
    "print(\"Correlation: \", corr)\n",
    "print(\"P-value: \", p_value)\n",
    "\n"
   ]
  },
  {
   "cell_type": "markdown",
   "metadata": {},
   "source": [
    "- 예상과 다르게 배송기간과 만족도와 유의미한 상관관계가 없다.\n",
    "- p_val이 0.05보다 작아 통계적으로 유의미하다 볼 수 있으나, 다른 요인에 의해 강한 영향을 받을것 같다."
   ]
  },
  {
   "cell_type": "code",
   "execution_count": 98,
   "metadata": {},
   "outputs": [
    {
     "name": "stdout",
     "output_type": "stream",
     "text": [
      "T-statistic:  -67.03772226176206\n",
      "P-value:  0.0\n",
      "지연 배송 평균 리뷰 점수: 3.1079958463136035\n",
      "정상 배송 평균 리뷰 점수: 4.278116665346325\n"
     ]
    }
   ],
   "source": [
    "# Convert Spark DataFrame to Pandas DataFrame\n",
    "pdf = df.select('review_score', 'delay_flag_estimated','delay_flag_avg','same_state').toPandas()\n",
    "\n",
    "A_grouped = pdf.loc[pdf['delay_flag_estimated'] == 'Yes']['review_score'].astype(float)\n",
    "B_grouped = pdf.loc[pdf['delay_flag_estimated'] == 'No']['review_score'].astype(float)\n",
    "\n",
    "t_stat , p_value = stats.ttest_ind(A_grouped, B_grouped)\n",
    "print(\"T-statistic: \", t_stat)\n",
    "print(\"P-value: \", p_value)\n",
    "print(\"지연 배송 평균 리뷰 점수:\", A_grouped.mean())\n",
    "print(\"정상 배송 평균 리뷰 점수:\", B_grouped.mean())\n"
   ]
  },
  {
   "cell_type": "code",
   "execution_count": 99,
   "metadata": {},
   "outputs": [
    {
     "name": "stdout",
     "output_type": "stream",
     "text": [
      "T-statistic:  -42.17078032500179\n",
      "P-value:  0.0\n",
      "지연 배송 평균 리뷰 점수: 4.051297665042836\n",
      "정상 배송 평균 리뷰 점수: 4.35111161332241\n"
     ]
    }
   ],
   "source": [
    "\n",
    "A_grouped = pdf.loc[pdf['delay_flag_avg'] == 'Yes']['review_score'].astype(float)\n",
    "B_grouped = pdf.loc[pdf['delay_flag_avg'] == 'No']['review_score'].astype(float)\n",
    "\n",
    "t_stat , p_value = stats.ttest_ind(A_grouped, B_grouped)\n",
    "print(\"T-statistic: \", t_stat)\n",
    "print(\"P-value: \", p_value)\n",
    "print(\"지연 배송 평균 리뷰 점수:\", A_grouped.mean())\n",
    "print(\"정상 배송 평균 리뷰 점수:\", B_grouped.mean())\n"
   ]
  },
  {
   "cell_type": "code",
   "execution_count": 101,
   "metadata": {},
   "outputs": [
    {
     "name": "stdout",
     "output_type": "stream",
     "text": [
      "A (지연 배송 & 다른 주) 평균 리뷰 점수: 3.0862745098039217\n",
      "B (지연 배송 & 같은 주) 평균 리뷰 점수: 3.138308457711443\n",
      "C (정상 배송 & 다른 주) 평균 리뷰 점수: 4.249416000219859\n",
      "D (정상 배송 & 같은 주) 평균 리뷰 점수: 4.329267994024441\n"
     ]
    }
   ],
   "source": [
    "# 4가지 그룹으로 분류\n",
    "A_grouped = pdf.loc[(pdf['delay_flag_estimated'] == 'Yes') & (pdf['same_state'] == 'No'), 'review_score'].astype(float)\n",
    "B_grouped = pdf.loc[(pdf['delay_flag_estimated'] == 'Yes') & (pdf['same_state'] == 'Yes'), 'review_score'].astype(float)\n",
    "C_grouped = pdf.loc[(pdf['delay_flag_estimated'] == 'No') & (pdf['same_state'] == 'No'), 'review_score'].astype(float)\n",
    "D_grouped = pdf.loc[(pdf['delay_flag_estimated'] == 'No') & (pdf['same_state'] == 'Yes'), 'review_score'].astype(float)\n",
    "\n",
    "# 평균 비교\n",
    "print(\"A (지연 배송 & 다른 주) 평균 리뷰 점수:\", A_grouped.mean())\n",
    "print(\"B (지연 배송 & 같은 주) 평균 리뷰 점수:\", B_grouped.mean())\n",
    "print(\"C (정상 배송 & 다른 주) 평균 리뷰 점수:\", C_grouped.mean())\n",
    "print(\"D (정상 배송 & 같은 주) 평균 리뷰 점수:\", D_grouped.mean())\n"
   ]
  },
  {
   "cell_type": "markdown",
   "metadata": {},
   "source": [
    "- 예상 배송 기간에 비해 실제 배송 기간이 더 긴 경우 실제 배송기간과 상관없이 만족도가 현저히 떨어짐을 알 수 있다.\n",
    "- 마찬가지로 평균 배송기간에 비해 실제 배송 기간이 더 긴 경우에도 만족도가 떨어짐을 알 수 있다."
   ]
  },
  {
   "cell_type": "code",
   "execution_count": null,
   "metadata": {},
   "outputs": [
    {
     "name": "stderr",
     "output_type": "stream",
     "text": [
      "[Stage 117:====>                                                  (1 + 11) / 12]\r"
     ]
    },
    {
     "name": "stdout",
     "output_type": "stream",
     "text": [
      "+-------------+-----+\n",
      "|seller_region|  cnt|\n",
      "+-------------+-----+\n",
      "|       남동부|74452|\n",
      "|         남부|12357|\n",
      "|       중서부| 1546|\n",
      "|       북동부| 1431|\n",
      "|         북부|   33|\n",
      "+-------------+-----+\n",
      "\n"
     ]
    },
    {
     "name": "stderr",
     "output_type": "stream",
     "text": [
      "                                                                                \r"
     ]
    }
   ],
   "source": [
    "\n",
    "query = \"\"\"\n",
    "        SELECT seller_region , COUNT(DISTINCT order_id) as cnt\n",
    "    FROM df_view\n",
    "    GROUP BY seller_region\n",
    "    ORDER BY 2 DESC\n",
    "\"\"\"\n",
    "spark.sql(query).show()"
   ]
  },
  {
   "cell_type": "code",
   "execution_count": 103,
   "metadata": {},
   "outputs": [
    {
     "name": "stdout",
     "output_type": "stream",
     "text": [
      "+---------------+-----+\n",
      "|customer_region|  cnt|\n",
      "+---------------+-----+\n",
      "|         남동부|62372|\n",
      "|           남부|12870|\n",
      "|         북동부| 7455|\n",
      "|         중서부| 5523|\n",
      "|           북부| 1369|\n",
      "+---------------+-----+\n",
      "\n"
     ]
    }
   ],
   "source": [
    "\n",
    "query = \"\"\"\n",
    "        SELECT customer_region , COUNT(DISTINCT order_id) as cnt\n",
    "    FROM df_view\n",
    "    GROUP BY customer_region\n",
    "    ORDER BY 2 DESC\n",
    "\"\"\"\n",
    "spark.sql(query).show()"
   ]
  },
  {
   "cell_type": "code",
   "execution_count": 104,
   "metadata": {},
   "outputs": [
    {
     "name": "stdout",
     "output_type": "stream",
     "text": [
      "+-------------+---------------+-----+\n",
      "|seller_region|customer_region|  cnt|\n",
      "+-------------+---------------+-----+\n",
      "|       남동부|         남동부|53096|\n",
      "|       남동부|           남부| 9656|\n",
      "|         남부|         남동부| 7881|\n",
      "|       남동부|         북동부| 6252|\n",
      "|       남동부|         중서부| 4567|\n",
      "|         남부|           남부| 3043|\n",
      "|       남동부|           북부| 1167|\n",
      "|       중서부|         남동부| 1011|\n",
      "|       북동부|         남동부|  759|\n",
      "|         남부|         북동부|  676|\n",
      "|         남부|         중서부|  658|\n",
      "|       북동부|         북동부|  406|\n",
      "|       중서부|         중서부|  213|\n",
      "|       중서부|         북동부|  160|\n",
      "|         남부|           북부|  141|\n",
      "|       중서부|           남부|  132|\n",
      "|       북동부|           남부|  130|\n",
      "|       북동부|         중서부|  115|\n",
      "|       중서부|           북부|   37|\n",
      "|       북동부|           북부|   29|\n",
      "+-------------+---------------+-----+\n",
      "only showing top 20 rows\n",
      "\n"
     ]
    }
   ],
   "source": [
    "query = \"\"\"\n",
    "    SELECT seller_region , customer_region, COUNT(DISTINCT order_id) as cnt\n",
    "    FROM df_view\n",
    "    GROUP BY seller_region,customer_region\n",
    "    ORDER BY 3 DESC\n",
    "\"\"\"\n",
    "spark.sql(query).show()"
   ]
  },
  {
   "cell_type": "code",
   "execution_count": 119,
   "metadata": {},
   "outputs": [
    {
     "name": "stdout",
     "output_type": "stream",
     "text": [
      "+-------------+---------------+----------------+-----+\n",
      "|seller_region|customer_region|delay_proportion|  cnt|\n",
      "+-------------+---------------+----------------+-----+\n",
      "|       중서부|           북부|           21.62|   37|\n",
      "|       북동부|         중서부|           15.65|  115|\n",
      "|       북동부|           남부|           13.08|  130|\n",
      "|       중서부|         중서부|            9.86|  213|\n",
      "|       남동부|         중서부|            8.19| 4567|\n",
      "|       북동부|         북동부|             6.9|  406|\n",
      "|       중서부|         북동부|            6.25|  160|\n",
      "|       남동부|         남동부|            6.08|53096|\n",
      "|       중서부|           남부|            6.06|  132|\n",
      "|       남동부|         북동부|            4.96| 6252|\n",
      "|       중서부|         남동부|            4.75| 1011|\n",
      "|       남동부|           북부|            4.63| 1167|\n",
      "|       북동부|         남동부|            4.61|  759|\n",
      "|       남동부|           남부|            3.79| 9656|\n",
      "|       북동부|           북부|            3.45|   29|\n",
      "|         남부|           남부|            3.02| 3043|\n",
      "|         남부|         북동부|            2.66|  676|\n",
      "|         남부|         남동부|            2.06| 7881|\n",
      "|         남부|         중서부|            1.98|  658|\n",
      "|         남부|           북부|            1.42|  141|\n",
      "+-------------+---------------+----------------+-----+\n",
      "\n"
     ]
    }
   ],
   "source": [
    "query = \"\"\"\n",
    "    SELECT seller_region , customer_region,ROUND(SUM(CASE WHEN delay_flag_estimated = \"Yes\" THEN 1 ELSE 0 END)/COUNT(DISTINCT order_id)*100.0,2) as delay_proportion\n",
    "    ,COUNT(DISTINCT order_id) as cnt\n",
    "    FROM df_view\n",
    "    WHERE seller_region != '북부'\n",
    "    GROUP BY seller_region,customer_region\n",
    "    ORDER BY 3 DESC\n",
    "\"\"\"\n",
    "spark.sql(query).show()\n"
   ]
  },
  {
   "cell_type": "code",
   "execution_count": null,
   "metadata": {},
   "outputs": [],
   "source": []
  },
  {
   "cell_type": "code",
   "execution_count": 120,
   "metadata": {},
   "outputs": [
    {
     "name": "stdout",
     "output_type": "stream",
     "text": [
      "+-------------+---------------+----+------------+\n",
      "|seller_region|customer_region| cnt|avg_distance|\n",
      "+-------------+---------------+----+------------+\n",
      "|       남동부|         남동부|2513|      302.45|\n",
      "|       남동부|           남부| 258|      657.66|\n",
      "|       남동부|         북동부| 225|     1825.38|\n",
      "|       남동부|         중서부| 195|      814.23|\n",
      "|         남부|         남동부| 150|      685.36|\n",
      "|         남부|           남부|  80|      475.34|\n",
      "|       북동부|         남동부|  31|     2048.99|\n",
      "|       중서부|         남동부|  21|      805.43|\n",
      "|       남동부|           북부|  20|     2005.64|\n",
      "|       북동부|         북동부|  17|      458.89|\n",
      "|         남부|         북동부|  15|     2721.56|\n",
      "|         남부|         중서부|  10|     1089.24|\n",
      "|       북동부|           남부|  10|     2470.44|\n",
      "|       북동부|         중서부|   9|      1570.5|\n",
      "|       중서부|         중서부|   8|      304.94|\n",
      "|       중서부|           남부|   4|      1119.8|\n",
      "|       중서부|         북동부|   4|     1539.25|\n",
      "|         남부|           북부|   2|     1801.09|\n",
      "|       중서부|           북부|   2|      895.47|\n",
      "|         북부|         북동부|   1|      524.84|\n",
      "+-------------+---------------+----+------------+\n",
      "only showing top 20 rows\n",
      "\n"
     ]
    }
   ],
   "source": [
    "query = \"\"\"\n",
    "    SELECT seller_region , customer_region, COUNT(DISTINCT order_id) as cnt , ROUND(AVG(distance),2) as avg_distance\n",
    "    FROM df_view\n",
    "    WHERE delay_flag_estimated = 'Yes'\n",
    "    GROUP BY seller_region,customer_region\n",
    "    ORDER BY 3 DESC\n",
    "\"\"\"\n",
    "spark.sql(query).show()\n"
   ]
  },
  {
   "cell_type": "code",
   "execution_count": 121,
   "metadata": {},
   "outputs": [
    {
     "name": "stderr",
     "output_type": "stream",
     "text": [
      "[Stage 219:============================>                           (6 + 6) / 12]\r"
     ]
    },
    {
     "name": "stdout",
     "output_type": "stream",
     "text": [
      "+-------------+---------------+----+------------+\n",
      "|seller_region|customer_region| cnt|avg_distance|\n",
      "+-------------+---------------+----+------------+\n",
      "|       북동부|         중서부|7.83|     1583.28|\n",
      "|       북동부|           남부|7.69|     2357.93|\n",
      "|       중서부|           북부|5.41|     1224.75|\n",
      "|       남동부|         남동부|4.73|      283.64|\n",
      "|       남동부|         중서부|4.27|      853.31|\n",
      "|       북동부|         북동부|4.19|      623.57|\n",
      "|       북동부|         남동부|4.08|     1531.66|\n",
      "|       중서부|         중서부|3.76|      258.96|\n",
      "|       남동부|         북동부| 3.6|     1755.51|\n",
      "|       북동부|           북부|3.45|     1793.58|\n",
      "|       중서부|           남부|3.03|     1190.29|\n",
      "|       남동부|           남부|2.67|      731.04|\n",
      "|         남부|           남부|2.63|      384.07|\n",
      "|       중서부|         북동부| 2.5|     1403.66|\n",
      "|         남부|         북동부|2.22|     2277.25|\n",
      "|       중서부|         남동부|2.08|      790.29|\n",
      "|         남부|         남동부| 1.9|      684.39|\n",
      "|       남동부|           북부|1.71|      2051.3|\n",
      "|         남부|         중서부|1.52|     1128.53|\n",
      "|         남부|           북부|1.42|     2272.19|\n",
      "+-------------+---------------+----+------------+\n",
      "\n"
     ]
    },
    {
     "name": "stderr",
     "output_type": "stream",
     "text": [
      "                                                                                \r"
     ]
    }
   ],
   "source": [
    "query = \"\"\"\n",
    "    SELECT seller_region , customer_region, ROUND(COUNT(DISTINCT \n",
    "        CASE WHEN delay_flag_estimated = 'Yes' THEN order_id END)/COUNT(DISTINCT order_id)*100.0,2) as cnt\n",
    "        ,ROUND(AVG(distance),2) as avg_distance\n",
    "    FROM df_view\n",
    "    WHERE seller_region != '북부'\n",
    "    GROUP BY seller_region,customer_region\n",
    "    ORDER BY 3 DESC\n",
    "\"\"\"\n",
    "spark.sql(query).show()\n"
   ]
  },
  {
   "cell_type": "code",
   "execution_count": null,
   "metadata": {},
   "outputs": [],
   "source": [
    "import scipy.stats as stats\n",
    "pdf = df.select('review_score', 'days_to_delivery').toPandas()\n",
    "\n",
    "# Convert review_score to numeric\n",
    "pdf['review_score'] = pd.to_numeric(pdf['review_score'])\n",
    "\n",
    "corr, p_value = stats.pearsonr(pdf['review_score'], pdf['days_to_delivery'])\n",
    "print(\"Correlation: \", corr)\n",
    "print(\"P-value: \", p_value)\n",
    "\n"
   ]
  },
  {
   "cell_type": "markdown",
   "metadata": {},
   "source": [
    " - 예상 배송시간은 어떻게 산정되는가?\n",
    "    - 예상 배송시간의 분포.."
   ]
  },
  {
   "cell_type": "code",
   "execution_count": 37,
   "metadata": {},
   "outputs": [
    {
     "name": "stdout",
     "output_type": "stream",
     "text": [
      "T-statistic:  -7.186129858260473\n",
      "P-value:  6.712447462292546e-13\n",
      "지연 배송 평균 거리(km): 509.4861533180567\n",
      "정상 배송 평균 거리(km): 577.0121963461853\n"
     ]
    }
   ],
   "source": [
    "# Convert Spark DataFrame to Pandas DataFrame\n",
    "pdf = df.toPandas()\n",
    "\n",
    "A_grouped = pdf.loc[pdf['delay_flag_estimated'] == 'Yes']['distance'].astype(float)\n",
    "B_grouped = pdf.loc[pdf['delay_flag_estimated'] == 'No']['distance'].astype(float)\n",
    "\n",
    "t_stat , p_value = stats.ttest_ind(A_grouped, B_grouped)\n",
    "print(\"T-statistic: \", t_stat)\n",
    "print(\"P-value: \", p_value)\n",
    "print(\"지연 배송 평균 거리(km):\", A_grouped.mean())\n",
    "print(\"정상 배송 평균 거리(km):\", B_grouped.mean())\n"
   ]
  },
  {
   "cell_type": "code",
   "execution_count": 16,
   "metadata": {},
   "outputs": [
    {
     "name": "stdout",
     "output_type": "stream",
     "text": [
      "+----+--------------------+------------+\n",
      "| cnt|delay_flag_estimated|seller_state|\n",
      "+----+--------------------+------------+\n",
      "|  16|                 Yes|          BA|\n",
      "|   3|                 Yes|          CE|\n",
      "|  20|                 Yes|          DF|\n",
      "|  13|                 Yes|          ES|\n",
      "|   6|                 Yes|          GO|\n",
      "|  39|                 Yes|          MA|\n",
      "| 159|                 Yes|          MG|\n",
      "|  11|                 Yes|          MS|\n",
      "|   2|                 Yes|          MT|\n",
      "|   8|                 Yes|          PE|\n",
      "| 139|                 Yes|          PR|\n",
      "| 183|                 Yes|          RJ|\n",
      "|   1|                 Yes|          RN|\n",
      "|  40|                 Yes|          RS|\n",
      "|  77|                 Yes|          SC|\n",
      "|   1|                 Yes|          SE|\n",
      "|2843|                 Yes|          SP|\n",
      "|   1|                 Yes|          TO|\n",
      "+----+--------------------+------------+\n",
      "\n"
     ]
    }
   ],
   "source": [
    "query = \"\"\"\n",
    "    SELECT COUNT(DISTINCT order_id) as cnt, delay_flag_estimated ,seller_state\n",
    "    FROM df_view\n",
    "    WHERE delay_flag_estimated = 'Yes'\n",
    "    GROUP BY delay_flag_estimated, seller_state\n",
    "    ORDER BY delay_flag_estimated, seller_state\n",
    "\"\"\"\n",
    "spark.sql(query).show()"
   ]
  },
  {
   "cell_type": "code",
   "execution_count": 36,
   "metadata": {},
   "outputs": [
    {
     "name": "stdout",
     "output_type": "stream",
     "text": [
      "+-----------------+\n",
      "| avg_review_score|\n",
      "+-----------------+\n",
      "|4.231621236777868|\n",
      "+-----------------+\n",
      "\n"
     ]
    }
   ],
   "source": [
    "from pyspark.sql.functions import avg\n",
    "\n",
    "df.agg(avg('review_score').alias('avg_review_score')).show()"
   ]
  },
  {
   "cell_type": "code",
   "execution_count": null,
   "metadata": {},
   "outputs": [],
   "source": []
  },
  {
   "cell_type": "markdown",
   "metadata": {},
   "source": [
    "#### 브라질 3대 지역 vs 나머지 비교"
   ]
  },
  {
   "cell_type": "markdown",
   "metadata": {},
   "source": [
    "-  group_A = ['SP', 'RJ', 'MG'](상파울루 ,미나스제라이스,리우데자네이루), group_B = 나머지\n",
    "-  group_A의 배송기간과 만족도와 group_B의 배송기간과 만족도를 비교"
   ]
  },
  {
   "cell_type": "code",
   "execution_count": null,
   "metadata": {},
   "outputs": [],
   "source": [
    "query = \"\"\"\n",
    "    SELECT seller_region , customer_region, COUNT(DISTINCT order_id) as cnt , ROUND(AVG(distance),2) as avg_distance\n",
    "    FROM df_view\n",
    "    WHERE delay_flag_estimated = 'Yes' AND\n",
    "\"\"\""
   ]
  },
  {
   "cell_type": "code",
   "execution_count": null,
   "metadata": {},
   "outputs": [],
   "source": []
  }
 ],
 "metadata": {
  "kernelspec": {
   "display_name": "Python 3",
   "language": "python",
   "name": "python3"
  },
  "language_info": {
   "codemirror_mode": {
    "name": "ipython",
    "version": 3
   },
   "file_extension": ".py",
   "mimetype": "text/x-python",
   "name": "python",
   "nbconvert_exporter": "python",
   "pygments_lexer": "ipython3",
   "version": "3.10.12"
  }
 },
 "nbformat": 4,
 "nbformat_minor": 2
}
